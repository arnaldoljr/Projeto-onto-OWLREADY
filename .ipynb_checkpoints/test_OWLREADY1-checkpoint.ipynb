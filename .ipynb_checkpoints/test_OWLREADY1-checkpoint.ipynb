{
 "cells": [
  {
   "cell_type": "markdown",
   "metadata": {},
   "source": [
    "# OWLREADY"
   ]
  },
  {
   "cell_type": "markdown",
   "metadata": {},
   "source": [
    "$$\\large{\\it{\\textbf{Carregando uma ontologia}}}$$"
   ]
  },
  {
   "cell_type": "code",
   "execution_count": 1,
   "metadata": {},
   "outputs": [
    {
     "name": "stderr",
     "output_type": "stream",
     "text": [
      "* Owlready * Creating new ontology owl <http://www.w3.org/2002/07/owl>.\n",
      "* Owlready * Creating new ontology 22-rdf-syntax-ns <http://www.w3.org/1999/02/22-rdf-syntax-ns>.\n",
      "* Owlready * Creating new ontology rdf-schema <http://www.w3.org/2000/01/rdf-schema>.\n",
      "* Owlready * Creating new ontology XMLSchema <http://www.w3.org/2001/XMLSchema>.\n",
      "* Owlready * Creating new ontology anonymous <http://anonymous>.\n",
      "* Owlready * Creating new ontology owlready_ontology <http://www.lesfleursdunormal.fr/static/_downloads/owlready_ontology.owl>.\n",
      "* Owlready *     ...loading ontology owlready_ontology from /usr/local/lib/python3.5/dist-packages/owlready/owlready_ontology.owl...\n"
     ]
    }
   ],
   "source": [
    " from owlready import *"
   ]
  },
  {
   "cell_type": "markdown",
   "metadata": {},
   "source": [
    "## carregar a ontologia pizza "
   ]
  },
  {
   "cell_type": "code",
   "execution_count": 2,
   "metadata": {
    "scrolled": true
   },
   "outputs": [
    {
     "name": "stderr",
     "output_type": "stream",
     "text": [
      "* Owlready * Creating new ontology pizza_onto <http://www.lesfleursdunormal.fr/static/_downloads/pizza_onto.owl>.\n",
      "* Owlready *     ...loading ontology pizza_onto from http://www.lesfleursdunormal.fr/static/_downloads/pizza_onto.owl...\n"
     ]
    }
   ],
   "source": [
    "onto =  get_ontology(\"http://www.lesfleursdunormal.fr/static/_downloads/pizza_onto.owl\").load()"
   ]
  },
  {
   "cell_type": "code",
   "execution_count": 3,
   "metadata": {},
   "outputs": [
    {
     "data": {
      "text/plain": [
       "<Ontology pizza_onto>"
      ]
     },
     "execution_count": 3,
     "metadata": {},
     "output_type": "execute_result"
    }
   ],
   "source": [
    "onto.load()"
   ]
  },
  {
   "cell_type": "code",
   "execution_count": 4,
   "metadata": {},
   "outputs": [
    {
     "name": "stdout",
     "output_type": "stream",
     "text": [
      "[pizza_onto.CheeseTopping, pizza_onto.FishTopping, pizza_onto.MeatTopping, pizza_onto.Pizza, pizza_onto.TomatoTopping, pizza_onto.Topping]\n"
     ]
    }
   ],
   "source": [
    "print(onto.classes)"
   ]
  },
  {
   "cell_type": "code",
   "execution_count": 5,
   "metadata": {},
   "outputs": [
    {
     "name": "stdout",
     "output_type": "stream",
     "text": [
      "[]\n"
     ]
    }
   ],
   "source": [
    "print(onto.instances)"
   ]
  },
  {
   "cell_type": "code",
   "execution_count": 6,
   "metadata": {},
   "outputs": [
    {
     "name": "stdout",
     "output_type": "stream",
     "text": [
      "CheeseTopping\n",
      "FishTopping\n",
      "MeatTopping\n",
      "Pizza\n",
      "TomatoTopping\n",
      "Topping\n"
     ]
    }
   ],
   "source": [
    "for cl in onto.classes:\n",
    "    print(cl)"
   ]
  },
  {
   "cell_type": "code",
   "execution_count": 9,
   "metadata": {},
   "outputs": [
    {
     "name": "stdout",
     "output_type": "stream",
     "text": [
      "<generator object ThingClass.instances at 0xb2a64cec>\n"
     ]
    }
   ],
   "source": [
    "print(onto.CheeseTopping.instances())"
   ]
  },
  {
   "cell_type": "code",
   "execution_count": 10,
   "metadata": {
    "collapsed": true
   },
   "outputs": [],
   "source": [
    "class ClasseThing(Thing):\n",
    "    ontology = onto"
   ]
  },
  {
   "cell_type": "code",
   "execution_count": 11,
   "metadata": {},
   "outputs": [
    {
     "name": "stdout",
     "output_type": "stream",
     "text": [
      "<generator object ThingClass.instances at 0xb2a64d1c>\n"
     ]
    }
   ],
   "source": [
    "print(ClasseThing.instances())"
   ]
  },
  {
   "cell_type": "code",
   "execution_count": 12,
   "metadata": {},
   "outputs": [],
   "source": [
    "for ai in ClasseThing.instances():\n",
    "    print(ai)\n"
   ]
  },
  {
   "cell_type": "code",
   "execution_count": 13,
   "metadata": {},
   "outputs": [
    {
     "name": "stdout",
     "output_type": "stream",
     "text": [
      "<bound method ThingClass.instances of pizza_onto.ClasseThing>\n"
     ]
    }
   ],
   "source": [
    "print(ClasseThing.instances)"
   ]
  },
  {
   "cell_type": "code",
   "execution_count": 14,
   "metadata": {},
   "outputs": [
    {
     "name": "stdout",
     "output_type": "stream",
     "text": [
      "http://www.lesfleursdunormal.fr/static/_downloads/pizza_onto.owl\n"
     ]
    }
   ],
   "source": [
    "#mostra de onde está sendo carregada a ontologia\n",
    "print(onto.base_iri)"
   ]
  },
  {
   "cell_type": "code",
   "execution_count": 6,
   "metadata": {},
   "outputs": [
    {
     "name": "stdout",
     "output_type": "stream",
     "text": [
      "[]\n"
     ]
    }
   ],
   "source": [
    "#mostra outras onlogias importadas\n",
    "print(onto.imported_ontologies)"
   ]
  },
  {
   "cell_type": "code",
   "execution_count": 7,
   "metadata": {},
   "outputs": [
    {
     "name": "stdout",
     "output_type": "stream",
     "text": [
      "[]\n"
     ]
    }
   ],
   "source": [
    "print(onto.classes)"
   ]
  },
  {
   "cell_type": "code",
   "execution_count": 8,
   "metadata": {},
   "outputs": [
    {
     "name": "stdout",
     "output_type": "stream",
     "text": [
      "[]\n"
     ]
    }
   ],
   "source": [
    "print(onto.instances)"
   ]
  },
  {
   "cell_type": "code",
   "execution_count": 9,
   "metadata": {},
   "outputs": [
    {
     "name": "stdout",
     "output_type": "stream",
     "text": [
      "[]\n"
     ]
    }
   ],
   "source": [
    "print(onto.properties)"
   ]
  },
  {
   "cell_type": "code",
   "execution_count": 10,
   "metadata": {},
   "outputs": [
    {
     "name": "stdout",
     "output_type": "stream",
     "text": [
      "[]\n"
     ]
    }
   ],
   "source": [
    "print(onto.annotation_properties)"
   ]
  },
  {
   "cell_type": "code",
   "execution_count": 11,
   "metadata": {},
   "outputs": [
    {
     "name": "stdout",
     "output_type": "stream",
     "text": [
      "[]\n"
     ]
    }
   ],
   "source": [
    "print(onto.all_disjoints)"
   ]
  },
  {
   "cell_type": "code",
   "execution_count": 13,
   "metadata": {},
   "outputs": [
    {
     "name": "stdout",
     "output_type": "stream",
     "text": [
      "<generator object Ontology.instances_of.<locals>.<genexpr> at 0xb3a5bbfc>\n"
     ]
    }
   ],
   "source": [
    "print(onto.instances_of(ThingClass))"
   ]
  },
  {
   "cell_type": "code",
   "execution_count": 14,
   "metadata": {},
   "outputs": [
    {
     "name": "stdout",
     "output_type": "stream",
     "text": [
      "<generator object Ontology.subclasses_of.<locals>.<genexpr> at 0xb3a5bbfc>\n"
     ]
    }
   ],
   "source": [
    "print(onto.subclasses_of(Thing))"
   ]
  },
  {
   "cell_type": "markdown",
   "metadata": {},
   "source": [
    "* **.remove_unreachables(Classes_and_instances) : removes from the ontology ALL classes and instances that are not referenced by at least one of the entities given in argument (recursively), and returns the list of removed entities. Useful for ‘garbage collecting’ your ontology!**\n"
   ]
  },
  {
   "cell_type": "code",
   "execution_count": 3,
   "metadata": {},
   "outputs": [
    {
     "data": {
      "text/plain": [
       "<function list.clear>"
      ]
     },
     "execution_count": 3,
     "metadata": {},
     "output_type": "execute_result"
    }
   ],
   "source": [
    "onto_path.clear"
   ]
  },
  {
   "cell_type": "code",
   "execution_count": 6,
   "metadata": {},
   "outputs": [
    {
     "data": {
      "text/plain": [
       "[]"
      ]
     },
     "execution_count": 6,
     "metadata": {},
     "output_type": "execute_result"
    }
   ],
   "source": [
    "onto_path"
   ]
  },
  {
   "cell_type": "code",
   "execution_count": 7,
   "metadata": {
    "collapsed": true
   },
   "outputs": [],
   "source": [
    "onto_path.append(\"/home/arnaldonot/FOIL_OWL_IMPLEM/ontologias\")"
   ]
  },
  {
   "cell_type": "code",
   "execution_count": 8,
   "metadata": {},
   "outputs": [
    {
     "name": "stderr",
     "output_type": "stream",
     "text": [
      "* Owlready * Creating new ontology pizza_onto <http://www.lesfleursdunormal.fr/static/_downloads/pizza_onto.owl>.\n"
     ]
    }
   ],
   "source": [
    "onto =  get_ontology(\"http://www.lesfleursdunormal.fr/static/_downloads/pizza_onto.owl\")"
   ]
  },
  {
   "cell_type": "code",
   "execution_count": 9,
   "metadata": {},
   "outputs": [
    {
     "name": "stderr",
     "output_type": "stream",
     "text": [
      "* Owlready *     ...loading ontology pizza_onto from /home/arnaldonot/FOIL_OWL_IMPLEM/ontologias/pizza_onto.owl...\n"
     ]
    },
    {
     "data": {
      "text/plain": [
       "<Ontology pizza_onto>"
      ]
     },
     "execution_count": 9,
     "metadata": {},
     "output_type": "execute_result"
    }
   ],
   "source": [
    "onto.load()"
   ]
  },
  {
   "cell_type": "markdown",
   "metadata": {},
   "source": [
    "$$\\large{\\textbf{ Operações sobre as ontologias }}$$"
   ]
  },
  {
   "cell_type": "markdown",
   "metadata": {},
   "source": [
    "* Posso criar novas classes dentro da ontologia \n",
    "* Ele permite trabalhar as restrições OWL com métodos do python\n",
    "\n"
   ]
  },
  {
   "cell_type": "code",
   "execution_count": 10,
   "metadata": {
    "collapsed": true
   },
   "outputs": [],
   "source": [
    "class NonVegetarianPizza(onto.Pizza):\n",
    "    equivalent_to=[onto.Pizza & ( restriction(\"has_topping\", SOME, onto.MeatTopping)  | restriction(\"has_topping\", SOME, onto.FishTopping) ) ]\n",
    "    def eat(self): print(\"Eca... Sou o Henrique ( sou vegetariano ) :) !\")"
   ]
  },
  {
   "cell_type": "markdown",
   "metadata": {},
   "source": [
    "* Posso acessar as classes da ontologia e criar novas  ** instâncias / indivíduos**:"
   ]
  },
  {
   "cell_type": "code",
   "execution_count": 11,
   "metadata": {},
   "outputs": [
    {
     "data": {
      "text/plain": [
       "pizza_onto.Pizza"
      ]
     },
     "execution_count": 11,
     "metadata": {},
     "output_type": "execute_result"
    }
   ],
   "source": [
    "onto.Pizza"
   ]
  },
  {
   "cell_type": "code",
   "execution_count": 12,
   "metadata": {
    "collapsed": true
   },
   "outputs": [],
   "source": [
    "#criar um identificador\n",
    "test_pizza = onto.Pizza(\"modaDaCasa\")\n",
    "test_pizza.has_topping = [ onto.CheeseTopping(),onto.TomatoTopping(),onto.MeatTopping()]"
   ]
  },
  {
   "cell_type": "code",
   "execution_count": 13,
   "metadata": {},
   "outputs": [
    {
     "name": "stdout",
     "output_type": "stream",
     "text": [
      "modaDaCasa_3\n"
     ]
    }
   ],
   "source": [
    "#salvar as modificaçoes\n",
    "print(test_pizza)"
   ]
  },
  {
   "cell_type": "code",
   "execution_count": 14,
   "metadata": {},
   "outputs": [
    {
     "data": {
      "text/plain": [
       "pizza_onto.Pizza"
      ]
     },
     "execution_count": 14,
     "metadata": {},
     "output_type": "execute_result"
    }
   ],
   "source": [
    "onto.Pizza"
   ]
  },
  {
   "cell_type": "code",
   "execution_count": 15,
   "metadata": {
    "collapsed": true
   },
   "outputs": [],
   "source": [
    "test_pizza = onto.Pizza(\"test_pizza_owl_identifier\")\n",
    "test_pizza.has_topping = [ onto.CheeseTopping(),onto.TomatoTopping(),onto.MeatTopping  () ]"
   ]
  },
  {
   "cell_type": "code",
   "execution_count": 16,
   "metadata": {},
   "outputs": [
    {
     "name": "stderr",
     "output_type": "stream",
     "text": [
      "* Owlready * Saving ontology pizza_onto to /home/arnaldonot/FOIL_OWL_IMPLEM/ontologias/pizza_onto.owl...\n"
     ]
    }
   ],
   "source": [
    "onto.save()"
   ]
  },
  {
   "cell_type": "code",
   "execution_count": 17,
   "metadata": {},
   "outputs": [
    {
     "data": {
      "text/plain": [
       "pizza_onto.Pizza"
      ]
     },
     "execution_count": 17,
     "metadata": {},
     "output_type": "execute_result"
    }
   ],
   "source": [
    "test_pizza.__class__"
   ]
  },
  {
   "cell_type": "code",
   "execution_count": 18,
   "metadata": {},
   "outputs": [
    {
     "name": "stderr",
     "output_type": "stream",
     "text": [
      "* Owlready * Running HermiT...\n",
      "    java -Xmx2000M -cp /usr/local/lib/python3.5/dist-packages/owlready/hermit:/usr/local/lib/python3.5/dist-packages/owlready/hermit/HermiT.jar org.semanticweb.HermiT.cli.CommandLine -c -O -D -I file:////tmp/tmpgpf6lt_r\n",
      "* Owlready * HermiT took 4.412097454071045 seconds\n",
      "* Owlready * Reparenting identificador_qualquer_2: {pizza_onto.Pizza} => {pizza_onto.NonVegetarianPizza}\n",
      "* Owlready * Reparenting moda_da_casa_3: {pizza_onto.Pizza} => {pizza_onto.NonVegetarianPizza}\n",
      "* Owlready * Reparenting moda_da_casa: {pizza_onto.Pizza} => {pizza_onto.NonVegetarianPizza}\n",
      "* Owlready * Reparenting modaDaCasa: {pizza_onto.Pizza} => {pizza_onto.NonVegetarianPizza}\n",
      "* Owlready * Reparenting moda_da_casa_2: {pizza_onto.Pizza} => {pizza_onto.NonVegetarianPizza}\n",
      "* Owlready * Reparenting test_pizza_owl_identifier_4: {pizza_onto.Pizza} => {pizza_onto.NonVegetarianPizza}\n",
      "* Owlready * Reparenting test_pizza_owl_identifier_2: {pizza_onto.Pizza} => {pizza_onto.NonVegetarianPizza}\n",
      "* Owlready * Reparenting modaDaCasa_2: {pizza_onto.Pizza} => {pizza_onto.NonVegetarianPizza}\n",
      "* Owlready * Reparenting test_pizza_owl_identifier_3: {pizza_onto.Pizza} => {pizza_onto.NonVegetarianPizza}\n",
      "* Owlready * Reparenting modaDaCasa_3: {pizza_onto.Pizza} => {pizza_onto.NonVegetarianPizza}\n"
     ]
    }
   ],
   "source": [
    "# Execute HermiT and reparent instances and classes\n",
    "onto.sync_reasoner()"
   ]
  },
  {
   "cell_type": "code",
   "execution_count": 19,
   "metadata": {},
   "outputs": [
    {
     "data": {
      "text/plain": [
       "pizza_onto.NonVegetarianPizza"
      ]
     },
     "execution_count": 19,
     "metadata": {},
     "output_type": "execute_result"
    }
   ],
   "source": [
    "test_pizza.__class__"
   ]
  },
  {
   "cell_type": "code",
   "execution_count": 20,
   "metadata": {},
   "outputs": [
    {
     "name": "stdout",
     "output_type": "stream",
     "text": [
      "Eca... Sou o Henrique ( sou vegetariano ) :) !\n"
     ]
    }
   ],
   "source": [
    "test_pizza.eat()"
   ]
  },
  {
   "cell_type": "markdown",
   "metadata": {
    "collapsed": true
   },
   "source": [
    "## Disjoint Classes\n"
   ]
  },
  {
   "cell_type": "code",
   "execution_count": 21,
   "metadata": {},
   "outputs": [
    {
     "name": "stderr",
     "output_type": "stream",
     "text": [
      "* Owlready * Creating new ontology onto <http://test.org/onto.owl>.\n"
     ]
    }
   ],
   "source": [
    "onto = get_ontology(\"http://test.org/onto.owl\")\n"
   ]
  },
  {
   "cell_type": "code",
   "execution_count": 22,
   "metadata": {
    "collapsed": true
   },
   "outputs": [],
   "source": [
    "class Drug(Thing):\n",
    "    ontology = onto"
   ]
  },
  {
   "cell_type": "code",
   "execution_count": 23,
   "metadata": {
    "collapsed": true
   },
   "outputs": [],
   "source": [
    "class ActivePrinciple(Thing):\n",
    "    ontology = onto"
   ]
  },
  {
   "cell_type": "code",
   "execution_count": 24,
   "metadata": {},
   "outputs": [
    {
     "data": {
      "text/plain": [
       "AllDisjoint(onto.Drug, onto.ActivePrinciple)"
      ]
     },
     "execution_count": 24,
     "metadata": {},
     "output_type": "execute_result"
    }
   ],
   "source": [
    "AllDisjoint(Drug,ActivePrinciple)"
   ]
  },
  {
   "cell_type": "code",
   "execution_count": 25,
   "metadata": {},
   "outputs": [
    {
     "data": {
      "text/plain": [
       "AllDisjoint(onto.acetaminophen, onto.aspirin)"
      ]
     },
     "execution_count": 25,
     "metadata": {},
     "output_type": "execute_result"
    }
   ],
   "source": [
    "acetaminophen = ActivePrinciple(\"acetaminophen\")\n",
    "aspirin = ActivePrinciple(\"aspirin\")\n",
    "\n",
    "AllDistinct(acetaminophen, aspirin)"
   ]
  },
  {
   "cell_type": "markdown",
   "metadata": {},
   "source": [
    "* observação\n",
    "\n",
    "* *AllDisjoint if you provide Classes*\n",
    "* *AllDistinct if you provide Instances* \n",
    "* disjoint Properties if you provide Properties*"
   ]
  },
  {
   "cell_type": "code",
   "execution_count": 26,
   "metadata": {
    "collapsed": true
   },
   "outputs": [],
   "source": [
    "class has_for_active_principle(Property):\n",
    "    ontology = onto\n",
    "    domain   = [Drug]\n",
    "    range    = [ActivePrinciple]"
   ]
  },
  {
   "cell_type": "code",
   "execution_count": 27,
   "metadata": {
    "collapsed": true
   },
   "outputs": [],
   "source": [
    "my_acetaminophen_drug = Drug(has_for_active_principle = [acetaminophen])\n"
   ]
  },
  {
   "cell_type": "code",
   "execution_count": 28,
   "metadata": {},
   "outputs": [
    {
     "data": {
      "text/plain": [
       "[onto.acetaminophen]"
      ]
     },
     "execution_count": 28,
     "metadata": {},
     "output_type": "execute_result"
    }
   ],
   "source": [
    "my_acetaminophen_drug.has_for_active_principle"
   ]
  },
  {
   "cell_type": "code",
   "execution_count": 29,
   "metadata": {
    "collapsed": true
   },
   "outputs": [],
   "source": [
    "#para amarrar que a droga teria somente 1 princípio ativo seria:\n",
    "my_acetaminophen_drug.is_a.append(restriction(has_for_active_principle, ONLY, one_of(acetaminophen)))"
   ]
  },
  {
   "cell_type": "code",
   "execution_count": 31,
   "metadata": {
    "collapsed": true
   },
   "outputs": [],
   "source": [
    "#tornando a ontologia um mundo fechado.\n",
    "my_acetaminophen_drug.closed_world()\n"
   ]
  },
  {
   "cell_type": "code",
   "execution_count": 32,
   "metadata": {
    "collapsed": true
   },
   "outputs": [],
   "source": [
    "#outro modo de tornar um mundo fechado.\n",
    "onto.add(AllDistinct(*onto.instances))\n",
    "for instance in onto.instances:\n",
    "    instance.closed_world()"
   ]
  },
  {
   "cell_type": "markdown",
   "metadata": {},
   "source": [
    "### Colocando métodos Python dentro de uma CLASSE OWL "
   ]
  },
  {
   "cell_type": "code",
   "execution_count": 33,
   "metadata": {
    "collapsed": true
   },
   "outputs": [],
   "source": [
    "class Drug(Thing):\n",
    "    ontology = onto\n",
    "    def get_per_tablet_cost(self):\n",
    "        return self.cost / self.number_of_tablets\n",
    "\n",
    "class has_for_cost(FunctionalProperty):\n",
    "    ontology = onto\n",
    "    domain   = [Drug]\n",
    "    range    = [float]\n",
    "\n",
    "\n"
   ]
  },
  {
   "cell_type": "code",
   "execution_count": 34,
   "metadata": {
    "collapsed": true
   },
   "outputs": [],
   "source": [
    "ANNOTATIONS[has_for_cost][\"python_name\"] = \"cost\"\n"
   ]
  },
  {
   "cell_type": "code",
   "execution_count": 35,
   "metadata": {
    "collapsed": true
   },
   "outputs": [],
   "source": [
    "class has_for_number_of_tablets(FunctionalProperty):\n",
    "    ontology = onto\n",
    "    domain   = [Drug]\n",
    "    range    = [int]"
   ]
  },
  {
   "cell_type": "code",
   "execution_count": 36,
   "metadata": {
    "collapsed": true
   },
   "outputs": [],
   "source": [
    "ANNOTATIONS[has_for_number_of_tablets][\"python_name\"] = \"number_of_tablets\"\n"
   ]
  },
  {
   "cell_type": "code",
   "execution_count": 37,
   "metadata": {
    "collapsed": true
   },
   "outputs": [],
   "source": [
    "my_drug = Drug(\"my_drug\", cost = 10.0, number_of_tablets = 5)\n"
   ]
  },
  {
   "cell_type": "code",
   "execution_count": 38,
   "metadata": {},
   "outputs": [
    {
     "name": "stdout",
     "output_type": "stream",
     "text": [
      "2.0\n"
     ]
    }
   ],
   "source": [
    "print(my_drug.get_per_tablet_cost())\n"
   ]
  },
  {
   "cell_type": "markdown",
   "metadata": {},
   "source": [
    "## Criando nome para as instâncias"
   ]
  },
  {
   "cell_type": "code",
   "execution_count": 39,
   "metadata": {
    "collapsed": true
   },
   "outputs": [],
   "source": [
    "class Drug(GeneratedName, Thing):\n",
    "    ontology = onto\n",
    "    def generate_name(self):\n",
    "        return \"drug_with_%s\" % \"_and_\".join(sorted(ai.name for ai in self.active_principles))\n"
   ]
  },
  {
   "cell_type": "code",
   "execution_count": 40,
   "metadata": {
    "collapsed": true
   },
   "outputs": [],
   "source": [
    "class ActivePrinciple(Thing):\n",
    "    ontology = onto"
   ]
  },
  {
   "cell_type": "code",
   "execution_count": 41,
   "metadata": {
    "collapsed": true
   },
   "outputs": [],
   "source": [
    "class has_for_active_principle(Property):\n",
    "    ontology = onto\n",
    "    domain   = [Drug]\n",
    "    range    = [ActivePrinciple]"
   ]
  },
  {
   "cell_type": "code",
   "execution_count": 42,
   "metadata": {
    "collapsed": true
   },
   "outputs": [],
   "source": [
    "ANNOTATIONS[has_for_active_principle][\"python_name\"] = \"active_principles\"\n"
   ]
  },
  {
   "cell_type": "code",
   "execution_count": 43,
   "metadata": {
    "collapsed": true
   },
   "outputs": [],
   "source": [
    "amoxicillin     = ActivePrinciple(\"amoxicillin\")\n",
    "clavulanic_acid = ActivePrinciple(\"clavulanic_acid\")\n",
    "my_drug = Drug()\n",
    "my_drug.active_principles = [amoxicillin, clavulanic_acid]"
   ]
  },
  {
   "cell_type": "code",
   "execution_count": 44,
   "metadata": {},
   "outputs": [
    {
     "name": "stdout",
     "output_type": "stream",
     "text": [
      "drug_with_amoxicillin_and_clavulanic_acid\n"
     ]
    }
   ],
   "source": [
    "print(my_drug)"
   ]
  },
  {
   "cell_type": "markdown",
   "metadata": {},
   "source": [
    "Owlready garenteers the uniqueness of the generated names, and will add “_2”, “_3”, and so on if needed.\n",
    "\n"
   ]
  },
  {
   "cell_type": "markdown",
   "metadata": {},
   "source": [
    "* **observação**:\n",
    "    * Um decorator é uma forma prática e reusável de adicionarmos funcionalidades às nossas funções/métodos/classes, sem precisarmos alterar o código delas."
   ]
  },
  {
   "cell_type": "code",
   "execution_count": 45,
   "metadata": {
    "collapsed": true
   },
   "outputs": [],
   "source": [
    "@forward_declaration\n",
    "class has_for_active_principle(Property): pass"
   ]
  },
  {
   "cell_type": "code",
   "execution_count": 46,
   "metadata": {
    "collapsed": true
   },
   "outputs": [],
   "source": [
    "# This definition of drug exclude Placebo, and requires the has_for_active_principle Property\n",
    "class Drug(Thing):\n",
    "    ontology = onto\n",
    "    is_a = [restriction(has_for_active_principle, SOME, ActivePrinciple)]\n"
   ]
  },
  {
   "cell_type": "code",
   "execution_count": 47,
   "metadata": {
    "collapsed": true
   },
   "outputs": [],
   "source": [
    "# This is the final declaration of the Property\n",
    "class has_for_active_principle(Property):\n",
    "    ontology = onto\n",
    "    domain   = [Drug]\n",
    "    range    = [ActivePrinciple]"
   ]
  },
  {
   "cell_type": "markdown",
   "metadata": {},
   "source": [
    "## ASSOCIAÇÃO PYTHON - Protegé\n",
    "\n",
    "[Obs: como utilizar modulos python dentro do protegé](http://pythonhosted.org/Owlready/mixing_python_owl.html#associating-a-python-module-to-an-owl-ontology)"
   ]
  },
  {
   "cell_type": "code",
   "execution_count": 48,
   "metadata": {
    "collapsed": true
   },
   "outputs": [],
   "source": [
    "#exemplo de como seria um destes modulos\n",
    "class Drug(GeneratedName, Thing):\n",
    "     ontology = onto\n",
    "     def generate_name(self):\n",
    "        return \"drug_with_%s\" % \"_and_\".join(sorted(ai.name for ai in self.active_principles))\n"
   ]
  },
  {
   "cell_type": "code",
   "execution_count": 49,
   "metadata": {
    "collapsed": true
   },
   "outputs": [],
   "source": [
    "class has_for_active_principle(Property):\n",
    "    ontology = onto"
   ]
  },
  {
   "cell_type": "markdown",
   "metadata": {
    "collapsed": true
   },
   "source": [
    "## Reasoning -  HermiT "
   ]
  },
  {
   "cell_type": "code",
   "execution_count": 50,
   "metadata": {
    "collapsed": true
   },
   "outputs": [],
   "source": [
    "from owlready import *"
   ]
  },
  {
   "cell_type": "code",
   "execution_count": 52,
   "metadata": {
    "collapsed": true
   },
   "outputs": [],
   "source": [
    "class Drug(Thing):\n",
    "    ontology = onto\n",
    "    def take(self): print(\"I took a drug\")\n"
   ]
  },
  {
   "cell_type": "code",
   "execution_count": null,
   "metadata": {
    "collapsed": true
   },
   "outputs": [],
   "source": []
  },
  {
   "cell_type": "code",
   "execution_count": null,
   "metadata": {
    "collapsed": true
   },
   "outputs": [],
   "source": []
  },
  {
   "cell_type": "code",
   "execution_count": null,
   "metadata": {
    "collapsed": true
   },
   "outputs": [],
   "source": []
  },
  {
   "cell_type": "code",
   "execution_count": 53,
   "metadata": {
    "collapsed": true
   },
   "outputs": [],
   "source": [
    "class ActivePrinciple(Thing):\n",
    "    ontology = onto\n"
   ]
  },
  {
   "cell_type": "code",
   "execution_count": 54,
   "metadata": {
    "collapsed": true
   },
   "outputs": [],
   "source": [
    "class has_for_active_principle(Property):\n",
    "    ontology = onto\n",
    "    domain   = [Drug]\n",
    "    range    = [ActivePrinciple]"
   ]
  },
  {
   "cell_type": "code",
   "execution_count": 55,
   "metadata": {},
   "outputs": [
    {
     "name": "stderr",
     "output_type": "stream",
     "text": [
      "/usr/local/lib/python3.5/dist-packages/ipykernel_launcher.py:1: OwlReadyDupplicatedNameWarning: Dupplicated Property name 'active_principles'!\n",
      "  \"\"\"Entry point for launching an IPython kernel.\n"
     ]
    }
   ],
   "source": [
    "ANNOTATIONS[has_for_active_principle][\"python_name\"] = \"active_principles\"\n"
   ]
  },
  {
   "cell_type": "code",
   "execution_count": 56,
   "metadata": {
    "collapsed": true
   },
   "outputs": [],
   "source": [
    "class Placebo(Drug):\n",
    "    equivalent_to = [Drug & NOT(restriction(has_for_active_principle, SOME, ActivePrinciple))]\n",
    "    def take(self): print(\"I took a placebo\")\n"
   ]
  },
  {
   "cell_type": "code",
   "execution_count": 57,
   "metadata": {
    "collapsed": true
   },
   "outputs": [],
   "source": [
    "class SingleActivePrincipleDrug(Drug):\n",
    "    equivalent_to = [Drug & restriction(has_for_active_principle, EXACTLY, 1, ActivePrinciple)]\n",
    "    def take(self): print(\"I took a drug with a single active principle\")\n"
   ]
  },
  {
   "cell_type": "code",
   "execution_count": 58,
   "metadata": {
    "collapsed": true
   },
   "outputs": [],
   "source": [
    "class DrugAssociation(Drug):\n",
    "    equivalent_to = [Drug & restriction(has_for_active_principle, MIN, 2, ActivePrinciple)]\n",
    "    def take(self): print(\"I took a drug with %s active principles\" % len(self.active_principles))\n"
   ]
  },
  {
   "cell_type": "code",
   "execution_count": 59,
   "metadata": {
    "collapsed": true
   },
   "outputs": [],
   "source": [
    "acetaminophen   = ActivePrinciple(\"acetaminophen\")\n",
    "amoxicillin     = ActivePrinciple(\"amoxicillin\")\n",
    "clavulanic_acid = ActivePrinciple(\"clavulanic_acid\")\n"
   ]
  },
  {
   "cell_type": "code",
   "execution_count": 60,
   "metadata": {},
   "outputs": [
    {
     "data": {
      "text/plain": [
       "AllDisjoint(onto.acetaminophen_2, onto.amoxicillin_2, onto.clavulanic_acid_2)"
      ]
     },
     "execution_count": 60,
     "metadata": {},
     "output_type": "execute_result"
    }
   ],
   "source": [
    "AllDistinct(acetaminophen, amoxicillin, clavulanic_acid)\n"
   ]
  },
  {
   "cell_type": "code",
   "execution_count": 61,
   "metadata": {
    "collapsed": true
   },
   "outputs": [],
   "source": [
    "drug1 = Drug(active_principles = [acetaminophen])\n",
    "drug2 = Drug(active_principles = [amoxicillin, clavulanic_acid])\n",
    "drug3 = Drug(active_principles = [])\n"
   ]
  },
  {
   "cell_type": "code",
   "execution_count": 62,
   "metadata": {
    "collapsed": true
   },
   "outputs": [],
   "source": [
    "drug1.closed_world()\n",
    "drug2.closed_world()\n",
    "drug3.closed_world()\n"
   ]
  },
  {
   "cell_type": "code",
   "execution_count": 63,
   "metadata": {},
   "outputs": [
    {
     "name": "stderr",
     "output_type": "stream",
     "text": [
      "* Owlready * Running HermiT...\n",
      "    java -Xmx2000M -cp /usr/local/lib/python3.5/dist-packages/owlready/hermit:/usr/local/lib/python3.5/dist-packages/owlready/hermit/HermiT.jar org.semanticweb.HermiT.cli.CommandLine -c -O -D -I file:////tmp/tmpa60nmz_7\n",
      "* Owlready * HermiT took 2.8631751537323 seconds\n",
      "* Owlready * Reparenting aspirin: {onto.ActivePrinciple} => {onto.ActivePrinciple}\n",
      "* Owlready * Reparenting clavulanic_acid: {onto.ActivePrinciple} => {onto.ActivePrinciple}\n",
      "* Owlready * Reparenting amoxicillin: {onto.ActivePrinciple} => {onto.ActivePrinciple}\n",
      "* Owlready * Reparenting acetaminophen: {onto.ActivePrinciple} => {onto.ActivePrinciple}\n",
      "* Owlready * Reparenting drug_4: {onto.Drug} => {onto.Placebo}\n",
      "* Owlready * Reparenting drug_1: {onto.Drug} => {onto.Drug}\n",
      "* Owlready * Reparenting my_drug: {onto.Drug} => {onto.Drug}\n",
      "* Owlready * Reparenting drug_2: {onto.Drug} => {onto.SingleActivePrincipleDrug}\n",
      "* Owlready * Reparenting drug_with_amoxicillin_and_clavulanic_acid: {onto.Drug} => {onto.Drug}\n",
      "* Owlready * Reparenting drug_3: {onto.Drug} => {onto.DrugAssociation}\n"
     ]
    }
   ],
   "source": [
    "onto.sync_reasoner()"
   ]
  },
  {
   "cell_type": "code",
   "execution_count": 64,
   "metadata": {},
   "outputs": [
    {
     "name": "stdout",
     "output_type": "stream",
     "text": [
      "drug2 new Classes: DrugAssociation\n"
     ]
    }
   ],
   "source": [
    "print(\"drug2 new Classes:\", drug2.__class__)\n"
   ]
  },
  {
   "cell_type": "code",
   "execution_count": 65,
   "metadata": {},
   "outputs": [
    {
     "name": "stdout",
     "output_type": "stream",
     "text": [
      "I took a drug with a single active principle\n"
     ]
    }
   ],
   "source": [
    "drug1.take()"
   ]
  },
  {
   "cell_type": "code",
   "execution_count": 66,
   "metadata": {},
   "outputs": [
    {
     "name": "stdout",
     "output_type": "stream",
     "text": [
      "I took a drug with 2 active principles\n"
     ]
    }
   ],
   "source": [
    "drug2.take()"
   ]
  },
  {
   "cell_type": "code",
   "execution_count": 67,
   "metadata": {},
   "outputs": [
    {
     "name": "stdout",
     "output_type": "stream",
     "text": [
      "I took a placebo\n"
     ]
    }
   ],
   "source": [
    "drug3.take()"
   ]
  },
  {
   "cell_type": "code",
   "execution_count": 68,
   "metadata": {
    "collapsed": true
   },
   "outputs": [],
   "source": [
    "ANNOTATIONS[Drug].add_annotation(rdfs.comment, \"A comment on the Drug class\")\n"
   ]
  },
  {
   "cell_type": "code",
   "execution_count": 69,
   "metadata": {
    "collapsed": true
   },
   "outputs": [],
   "source": [
    "ANNOTATIONS[Drug].add_annotation(\"comment\", \"A second comment on the Drug class\")\n"
   ]
  },
  {
   "cell_type": "code",
   "execution_count": 70,
   "metadata": {
    "collapsed": true
   },
   "outputs": [],
   "source": [
    "ANNOTATIONS[Drug].add_annotation((rdfs.comment, \"fr\"), \"Un commentaire en français\")\n"
   ]
  },
  {
   "cell_type": "code",
   "execution_count": 71,
   "metadata": {
    "collapsed": true
   },
   "outputs": [],
   "source": [
    "class HealthProblem(Thing):\n",
    "    ontology = onto\n"
   ]
  },
  {
   "cell_type": "code",
   "execution_count": 72,
   "metadata": {
    "collapsed": true
   },
   "outputs": [],
   "source": [
    "class is_prescribed_for(Property):\n",
    "    ontology = onto\n",
    "    domain   = [Drug]\n",
    "    range    = [HealthProblem]"
   ]
  },
  {
   "cell_type": "code",
   "execution_count": 73,
   "metadata": {
    "collapsed": true
   },
   "outputs": [],
   "source": [
    "acetaminophen = Drug(\"acetaminophen\")\n",
    "pain = HealthProblem(\"pain\")\n",
    "acetaminophen.is_prescribed_for.append(pain)\n",
    "ANNOTATIONS[acetaminophen].add_annotation(\"comment\", \"A comment on this particular drug\")\n",
    "ANNOTATIONS[acetaminophen, is_prescribed_for, pain].add_annotation(\"comment\", \"A comment on a relation\")\n"
   ]
  },
  {
   "cell_type": "code",
   "execution_count": 74,
   "metadata": {
    "collapsed": true
   },
   "outputs": [],
   "source": [
    "ANNOTATIONS[Drug, owl.is_a, Thing].add_annotation(\"comment\", \"A comment on an is-a relation\")\n",
    "ANNOTATIONS[is_prescribed_for, owl.domain, Drug].add_annotation(\"comment\", \"A comment on a property domain\")\n",
    "ANNOTATIONS[is_prescribed_for, owl.range, HealthProblem].add_annotation(\"comment\", \"A comment on a property range\")"
   ]
  },
  {
   "cell_type": "code",
   "execution_count": 75,
   "metadata": {
    "collapsed": true
   },
   "outputs": [],
   "source": [
    "ANNOTATIONS[acetaminophen][\"comment\"] = \"This comment replaces the first existing comment on acetaminophen\"\n"
   ]
  },
  {
   "cell_type": "code",
   "execution_count": 76,
   "metadata": {},
   "outputs": [
    {
     "name": "stdout",
     "output_type": "stream",
     "text": [
      "['A comment on the Drug class', 'A second comment on the Drug class', 'Un commentaire en français']\n"
     ]
    }
   ],
   "source": [
    "print(ANNOTATIONS[Drug][rdfs.comment])\n"
   ]
  },
  {
   "cell_type": "code",
   "execution_count": 77,
   "metadata": {},
   "outputs": [
    {
     "name": "stdout",
     "output_type": "stream",
     "text": [
      "['Un commentaire en français']\n"
     ]
    }
   ],
   "source": [
    "print(ANNOTATIONS[Drug][rdfs.comment, \"fr\"])\n"
   ]
  },
  {
   "cell_type": "code",
   "execution_count": 78,
   "metadata": {},
   "outputs": [
    {
     "name": "stdout",
     "output_type": "stream",
     "text": [
      "['A comment on a relation']\n"
     ]
    }
   ],
   "source": [
    "print(ANNOTATIONS[acetaminophen,is_prescribed_for,pain][\"comment\"])"
   ]
  },
  {
   "cell_type": "code",
   "execution_count": 79,
   "metadata": {},
   "outputs": [
    {
     "name": "stdout",
     "output_type": "stream",
     "text": [
      "['A comment on an is-a relation']\n"
     ]
    }
   ],
   "source": [
    "print(ANNOTATIONS[Drug, owl.is_a, Thing][\"comment\"])\n"
   ]
  },
  {
   "cell_type": "code",
   "execution_count": 80,
   "metadata": {},
   "outputs": [
    {
     "name": "stdout",
     "output_type": "stream",
     "text": [
      "A comment on an is-a relation\n"
     ]
    }
   ],
   "source": [
    "print(ANNOTATIONS[Drug,owl.is_a,Thing].get_first(\"comment\"))"
   ]
  },
  {
   "cell_type": "code",
   "execution_count": 81,
   "metadata": {},
   "outputs": [
    {
     "name": "stdout",
     "output_type": "stream",
     "text": [
      "A comment on an is-a relation\n"
     ]
    }
   ],
   "source": [
    "print(ANNOTATIONS[Drug, owl.is_a, Thing].get_first(\"comment\"))"
   ]
  },
  {
   "cell_type": "code",
   "execution_count": 82,
   "metadata": {},
   "outputs": [
    {
     "name": "stdout",
     "output_type": "stream",
     "text": [
      "comment A comment on the Drug class \n",
      "comment A second comment on the Drug class \n",
      "comment Un commentaire en français fr\n"
     ]
    }
   ],
   "source": [
    "for annotation_property, annotation_value, annotation_lang in ANNOTATIONS[Drug].items():\n",
    "    print(annotation_property, annotation_value, annotation_lang)\n"
   ]
  },
  {
   "cell_type": "code",
   "execution_count": 83,
   "metadata": {
    "collapsed": true
   },
   "outputs": [],
   "source": [
    "ANNOTATIONS[acetaminophen].del_annotation(\"comment\", \"This comment replaces all existing comment on the Drug class\")"
   ]
  },
  {
   "cell_type": "code",
   "execution_count": 84,
   "metadata": {
    "collapsed": true
   },
   "outputs": [],
   "source": [
    "del ANNOTATIONS[acetaminophen][\"comment\"]"
   ]
  },
  {
   "cell_type": "code",
   "execution_count": 85,
   "metadata": {
    "collapsed": true
   },
   "outputs": [],
   "source": [
    "#posso criar uma classe somente para as anotações.\n",
    "class my_annotation(AnnotationProperty):\n",
    "    ontology = onto"
   ]
  },
  {
   "cell_type": "code",
   "execution_count": 86,
   "metadata": {
    "collapsed": true
   },
   "outputs": [],
   "source": [
    "class pharmaceutical_comment(rdfs.comment):\n",
    "    ontology = onto"
   ]
  },
  {
   "cell_type": "code",
   "execution_count": 87,
   "metadata": {
    "collapsed": true
   },
   "outputs": [],
   "source": [
    "ANNOTATIONS[acetaminophen].add_annotation(pharmaceutical_comment, \"A comment related to pharmacology of acetaminophen\")\n"
   ]
  },
  {
   "cell_type": "markdown",
   "metadata": {},
   "source": [
    "## Keys"
   ]
  },
  {
   "cell_type": "code",
   "execution_count": 88,
   "metadata": {
    "collapsed": true
   },
   "outputs": [],
   "source": [
    "#posso criar os indexes depois de criar as instâncias \n",
    "class Drug(Thing):\n",
    "    ontology = onto\n",
    "    def take(self): print(\"I took a drug\")\n"
   ]
  },
  {
   "cell_type": "code",
   "execution_count": 89,
   "metadata": {
    "collapsed": true
   },
   "outputs": [],
   "source": [
    "class has_for_cip(FunctionalProperty):\n",
    "    ontology = onto\n",
    "    domain   = [Drug]\n",
    "    range    = [int]"
   ]
  },
  {
   "cell_type": "code",
   "execution_count": 90,
   "metadata": {
    "collapsed": true
   },
   "outputs": [],
   "source": [
    "ANNOTATIONS[has_for_cip][\"python_name\"] = \"cip\"\n"
   ]
  },
  {
   "cell_type": "code",
   "execution_count": 91,
   "metadata": {
    "collapsed": true
   },
   "outputs": [],
   "source": [
    "has_for_cip.create_index(Drug)\n"
   ]
  },
  {
   "cell_type": "code",
   "execution_count": 92,
   "metadata": {
    "collapsed": true
   },
   "outputs": [],
   "source": [
    "drug1 = Drug(\"drug1\", cip = 2166868)\n",
    "drug2 = Drug(\"drug2\", cip = 4166507)\n",
    "drug3 = Drug(\"drug3\", cip = 3698604)"
   ]
  },
  {
   "cell_type": "code",
   "execution_count": 93,
   "metadata": {},
   "outputs": [
    {
     "name": "stdout",
     "output_type": "stream",
     "text": [
      "drug2\n"
     ]
    }
   ],
   "source": [
    "print(has_for_cip.indexes[Drug][4166507])"
   ]
  },
  {
   "cell_type": "markdown",
   "metadata": {},
   "source": [
    "### EDITOBJ3\n",
    "#### Ferramenta de edição dele"
   ]
  },
  {
   "cell_type": "code",
   "execution_count": 94,
   "metadata": {
    "collapsed": true
   },
   "outputs": [],
   "source": [
    "class Drug(GeneratedName, Thing):\n",
    "    ontology = onto\n",
    "    def generate_name(self):\n",
    "        return \"drug_cip:%s_with_%s\" % (self.cip, \"_and_\".join(sorted(ai.inn for ai in self.active_principles)))\n"
   ]
  },
  {
   "cell_type": "code",
   "execution_count": 95,
   "metadata": {
    "collapsed": true
   },
   "outputs": [],
   "source": [
    "class ActivePrinciple(GeneratedName, Thing):\n",
    "    ontology = onto\n",
    "    def generate_name(self):\n",
    "        return \"active_principle_%s\" % self.inn\n"
   ]
  },
  {
   "cell_type": "code",
   "execution_count": 96,
   "metadata": {
    "collapsed": true
   },
   "outputs": [],
   "source": [
    "class DrugForm(Thing):\n",
    "     ontology = onto\n",
    "\n",
    "tablet     = DrugForm()\n",
    "capsule    = DrugForm()\n",
    "injectable = DrugForm()\n",
    "pomade     = DrugForm()\n"
   ]
  },
  {
   "cell_type": "code",
   "execution_count": 97,
   "metadata": {
    "collapsed": true
   },
   "outputs": [],
   "source": [
    "class has_for_cip(FunctionalProperty):\n",
    "     ontology = onto\n",
    "     domain   = [Drug]\n",
    "     range    = [int]"
   ]
  },
  {
   "cell_type": "code",
   "execution_count": 98,
   "metadata": {},
   "outputs": [
    {
     "name": "stderr",
     "output_type": "stream",
     "text": [
      "/usr/local/lib/python3.5/dist-packages/ipykernel_launcher.py:1: OwlReadyDupplicatedNameWarning: Dupplicated Property name 'cip'!\n",
      "  \"\"\"Entry point for launching an IPython kernel.\n"
     ]
    }
   ],
   "source": [
    "ANNOTATIONS[has_for_cip][\"python_name\"] = \"cip\"\n"
   ]
  },
  {
   "cell_type": "code",
   "execution_count": 99,
   "metadata": {},
   "outputs": [
    {
     "name": "stderr",
     "output_type": "stream",
     "text": [
      "/usr/local/lib/python3.5/dist-packages/ipykernel_launcher.py:5: OwlReadyDupplicatedNameWarning: Dupplicated Property name 'active_principles'!\n",
      "  \"\"\"\n"
     ]
    }
   ],
   "source": [
    "class has_for_active_principle(Property):\n",
    "     ontology = onto\n",
    "     domain   = [Drug]\n",
    "     range    = [ActivePrinciple]\n",
    "ANNOTATIONS[has_for_active_principle][\"python_name\"] = \"active_principles\"\n"
   ]
  },
  {
   "cell_type": "code",
   "execution_count": 100,
   "metadata": {
    "collapsed": true
   },
   "outputs": [],
   "source": [
    "class has_for_form(FunctionalProperty):\n",
    "     ontology = onto\n",
    "     domain   = [Drug]\n",
    "     range    = [DrugForm]\n",
    "ANNOTATIONS[has_for_form][\"python_name\"] = \"form\"\n"
   ]
  },
  {
   "cell_type": "code",
   "execution_count": 101,
   "metadata": {
    "collapsed": true
   },
   "outputs": [],
   "source": [
    "# INN means 'international nonproprietary name'\n",
    "class has_for_inn(FunctionalProperty):\n",
    "     ontology = onto\n",
    "     domain   = [ActivePrinciple]\n",
    "     range    = [normstr]\n",
    "ANNOTATIONS[has_for_inn][\"python_name\"] = \"inn\"\n"
   ]
  },
  {
   "cell_type": "code",
   "execution_count": 102,
   "metadata": {
    "collapsed": true
   },
   "outputs": [],
   "source": [
    "acetaminophen   = ActivePrinciple(inn = \"acetaminophen\")\n",
    "amoxicillin     = ActivePrinciple(inn = \"amoxicillin\")\n",
    "clavulanic_acid = ActivePrinciple(inn = \"clavulanic_acid\")\n"
   ]
  },
  {
   "cell_type": "code",
   "execution_count": 103,
   "metadata": {
    "collapsed": true
   },
   "outputs": [],
   "source": [
    "drug1 = Drug(cip = 1234, active_principles = [acetaminophen])\n",
    "drug2 = Drug(cip = 1235, active_principles = [amoxicillin, clavulanic_acid])\n",
    "drug3 = Drug()\n"
   ]
  },
  {
   "cell_type": "markdown",
   "metadata": {},
   "source": [
    "## * Ativer o editor - configurar com as ontologias disponíveis\n",
    "## * Ativar o QT backend \n",
    "## * editar as instâncias"
   ]
  },
  {
   "cell_type": "markdown",
   "metadata": {
    "collapsed": true
   },
   "source": [
    "$$\\Large{\\textbf{ Operações sobre as similaridades }}$$"
   ]
  },
  {
   "cell_type": "markdown",
   "metadata": {},
   "source": [
    "## Bruxaria I ( executar os comando dentro das células)"
   ]
  },
  {
   "cell_type": "code",
   "execution_count": 25,
   "metadata": {
    "collapsed": true
   },
   "outputs": [],
   "source": [
    "! cd JIIS13/ '$(pwd)'"
   ]
  },
  {
   "cell_type": "code",
   "execution_count": 17,
   "metadata": {},
   "outputs": [
    {
     "name": "stdout",
     "output_type": "stream",
     "text": [
      "/home/arnaldonot/FOIL_OWL_IMPLEM\r\n"
     ]
    }
   ],
   "source": [
    "!pwd"
   ]
  },
  {
   "cell_type": "code",
   "execution_count": 23,
   "metadata": {},
   "outputs": [
    {
     "name": "stdout",
     "output_type": "stream",
     "text": [
      "ls: não é possível acessar '': Arquivo ou diretório não encontrado\r\n"
     ]
    }
   ],
   "source": [
    "!ls  \"$(cd JIIS13/src/)\""
   ]
  },
  {
   "cell_type": "code",
   "execution_count": 6,
   "metadata": {},
   "outputs": [
    {
     "name": "stdout",
     "output_type": "stream",
     "text": [
      "FOIL\t     JIIS13\t test_OWLREADY1.ipynb\r\n",
      "foil-python  ontologias  test_OWLREADY2.ipynb\r\n"
     ]
    }
   ],
   "source": [
    "!ls"
   ]
  },
  {
   "cell_type": "markdown",
   "metadata": {},
   "source": [
    "## *Operacionar os resultados obtidos* \n",
    "### ** Matriz de similaridade **"
   ]
  },
  {
   "cell_type": "code",
   "execution_count": 3,
   "metadata": {},
   "outputs": [
    {
     "name": "stdout",
     "output_type": "stream",
     "text": [
      "jiis13 sim\n",
      "\n",
      "------------\n",
      "\n",
      "Loading ontology res/straight.owl\n",
      "\n",
      "Creating reasoner...\n",
      "\n",
      "Checking ontology consistency...\n",
      "\n",
      "Checking EL profile...\n",
      "\n",
      "Checking Acyclic TBox...\n",
      "\n",
      "Expanding defined concepts...\n",
      "\n",
      "Retrieving individual graphs...\n",
      "\n",
      "Precomputing inferences for clases\n",
      "\n",
      "Precomputing inferences for object properties\n",
      "\n",
      "Computing similarities...\n",
      "\n",
      "1 / 10\n",
      "\n",
      "2 / 10\n",
      "\n",
      "3 / 10\n",
      "\n",
      "4 / 10\n",
      "\n",
      "5 / 10\n",
      "\n",
      "6 / 10\n",
      "\n",
      "7 / 10\n",
      "\n",
      "8 / 10\n",
      "\n",
      "9 / 10\n",
      "\n",
      "10 / 10\n",
      "\n",
      "\n",
      "\n",
      "SIMILARITY:\n",
      "\n",
      "1.0\t0.35185185\t0.3773585\t0.3773585\t\n",
      "\n",
      "0.0\t1.0\t0.4117647\t0.3846154\t\n",
      "\n",
      "0.0\t0.0\t1.0\t0.46938777\t\n",
      "\n",
      "0.0\t0.0\t0.0\t1.0\t\n",
      "\n",
      "\n",
      "\n",
      "TIME:\n",
      "\n",
      "402\t758\t672\t567\t\n",
      "\n",
      "0\t547\t509\t585\t\n",
      "\n",
      "0\t0\t176\t393\t\n",
      "\n",
      "0\t0\t0\t197\t\n",
      "\n"
     ]
    }
   ],
   "source": [
    "with open(\"/home/arnaldonot/FOIL_OWL_IMPLEM/JIIS13/output.txt\") as fo:\n",
    "    for rec in fo:\n",
    "        print (rec)"
   ]
  },
  {
   "cell_type": "code",
   "execution_count": 10,
   "metadata": {
    "collapsed": true
   },
   "outputs": [],
   "source": [
    "with open(\"/home/arnaldonot/FOIL_OWL_IMPLEM/JIIS13/output.txt\") as infile, open(\"result.txt\",\"w\") as outfile:\n",
    "    copy = False\n",
    "    for line in infile:\n",
    "        if line.strip()== \"SIMILARITY:\":\n",
    "            copy = True\n",
    "        elif line.strip() ==\"TIME:\":\n",
    "            copy = False\n",
    "        elif copy:\n",
    "            outfile.write(line)"
   ]
  },
  {
   "cell_type": "code",
   "execution_count": 11,
   "metadata": {},
   "outputs": [
    {
     "name": "stdout",
     "output_type": "stream",
     "text": [
      "1.0\t0.35185185\t0.3773585\t0.3773585\t\n",
      "0.0\t1.0\t0.4117647\t0.3846154\t\n",
      "0.0\t0.0\t1.0\t0.46938777\t\n",
      "0.0\t0.0\t0.0\t1.0\t\n",
      "\n",
      "\n"
     ]
    }
   ],
   "source": [
    "with open(\"result.txt\",\"r\") as file:\n",
    "    print(file.read())"
   ]
  },
  {
   "cell_type": "code",
   "execution_count": 12,
   "metadata": {},
   "outputs": [
    {
     "name": "stdout",
     "output_type": "stream",
     "text": [
      "1.0\t0.35185185\t0.3773585\t0.3773585\t\n",
      "0.0\t1.0\t0.4117647\t0.3846154\t\n",
      "0.0\t0.0\t1.0\t0.46938777\t\n",
      "0.0\t0.0\t0.0\t1.0\t\n",
      "\n",
      "\n"
     ]
    }
   ],
   "source": [
    "mat = []\n",
    "with open(\"result.txt\",\"r\") as file:\n",
    "    mat = file.read()\n",
    "print(mat)"
   ]
  },
  {
   "cell_type": "code",
   "execution_count": 46,
   "metadata": {},
   "outputs": [
    {
     "name": "stdout",
     "output_type": "stream",
     "text": [
      "[[1.0, 0.35185185, 0.3773585, 0.3773585], [0.0, 1.0, 0.4117647, 0.3846154], [0.0, 0.0, 1.0, 0.46938777], [0.0, 0.0, 0.0, 1.0]]\n"
     ]
    }
   ],
   "source": [
    "with open(\"result.txt\",\"r\") as file:\n",
    "    m = []\n",
    "    for line in file:\n",
    "        line = line.split()\n",
    "        if line:\n",
    "            line = [float(i) for i in line]\n",
    "            m.append(line)\n",
    "print(m)\n",
    "           "
   ]
  },
  {
   "cell_type": "code",
   "execution_count": 56,
   "metadata": {},
   "outputs": [
    {
     "name": "stdout",
     "output_type": "stream",
     "text": [
      "0.3773585\n"
     ]
    }
   ],
   "source": [
    "print(m[0][3])"
   ]
  },
  {
   "cell_type": "code",
   "execution_count": 57,
   "metadata": {},
   "outputs": [
    {
     "name": "stdout",
     "output_type": "stream",
     "text": [
      "0.46938777\n"
     ]
    }
   ],
   "source": [
    "print(m[2][3])"
   ]
  },
  {
   "cell_type": "code",
   "execution_count": 53,
   "metadata": {},
   "outputs": [
    {
     "name": "stdout",
     "output_type": "stream",
     "text": [
      "1.0\t0.35185185\t0.3773585\t0.3773585\t\n",
      "0.0\t1.0\t0.4117647\t0.3846154\t\n",
      "0.0\t0.0\t1.0\t0.46938777\t\n",
      "0.0\t0.0\t0.0\t1.0\t\n",
      "\n",
      "\n"
     ]
    }
   ],
   "source": [
    "print(mat)"
   ]
  },
  {
   "cell_type": "code",
   "execution_count": null,
   "metadata": {
    "collapsed": true
   },
   "outputs": [],
   "source": []
  }
 ],
 "metadata": {
  "kernelspec": {
   "display_name": "Python 3",
   "language": "python",
   "name": "python3"
  },
  "language_info": {
   "codemirror_mode": {
    "name": "ipython",
    "version": 3
   },
   "file_extension": ".py",
   "mimetype": "text/x-python",
   "name": "python",
   "nbconvert_exporter": "python",
   "pygments_lexer": "ipython3",
   "version": "3.5.2"
  }
 },
 "nbformat": 4,
 "nbformat_minor": 2
}
