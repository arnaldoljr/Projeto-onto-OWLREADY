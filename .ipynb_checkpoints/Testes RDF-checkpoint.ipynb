{
 "cells": [
  {
   "cell_type": "code",
   "execution_count": 1,
   "metadata": {
    "collapsed": true
   },
   "outputs": [],
   "source": [
    "import rdflib\n"
   ]
  },
  {
   "cell_type": "code",
   "execution_count": 3,
   "metadata": {},
   "outputs": [
    {
     "name": "stdout",
     "output_type": "stream",
     "text": [
      "http://dbpedia.org/resource/Semantic_Web http://www.w3.org/2002/07/owl#sameAs http://d-nb.info/gnd/4688372-1\n",
      "http://dbpedia.org/resource/Semantic_Web http://www.w3.org/2000/01/rdf-schema#label ويب دلالي\n",
      "http://dbpedia.org/resource/Semantic_Web http://www.w3.org/2000/01/rdf-schema#label Семантическая паутина\n",
      "http://dbpedia.org/resource/Semantic_Web http://dbpedia.org/ontology/abstract Semantic Web (sieci semantyczne) – projekt, który ma przyczynić się do utworzenia i rozpowszechnienia standardów opisywania treści w Internecie w sposób, który umożliwi maszynom i programom (np. tzw. agentom) przetwarzanie informacji w sposób odpowiedni do ich znaczenia. Wśród standardów sieci semantycznych znajdują się m.in. OWL, RDF, RDF Schema (inaczej RDFS). Znaczenia zasobów informacyjnych określa się za pomocą tzw. ontologii. Sieć semantyczna jest wizją Tima Bernersa-Lee (twórcy standardu WWW i pierwszej przeglądarki internetowej, a także przewodniczącego W3C). W swoich założeniach sieć semantyczna ma korzystać z istniejącego protokołu komunikacyjnego, na którym bazuje dzisiejszy Internet. Różnica miałaby polegać na tym, że przesyłane dane mogłyby być 'rozumiane' także przez maszyny. Owo 'rozumienie' polegałoby na tym, że dane przekazywane byłyby w postaci, w której można by powiązać ich znaczenia między sobą a także w ramach odpowiedniego kontekstu. Informacje przekazywane w ramach sieci semantycznej wymagałyby nie tylko samych danych, ale także informacji o tychże (tzw. meta-danych). To właśnie meta-dane zawierałyby sformułowania dotyczące relacji między danymi oraz prawa logiki, które można do nich zastosować. Dzięki temu można by: \n",
      "*  powiązać różne dane znajdujące się w Internecie w ramach wspólnych jednostek znaczeniowych (np. strony dotyczące filmów, dziedzin nauki, kuchni francuskiej, etc.) \n",
      "*  rozróżnić dane, które dla maszyn są w tej chwili nierozróżnialne ze względu na identyczny zapis tekstowy (np. zamek - urządzenie do zamykania drzwi; urządzenie do łączenia w ustalonym położeniu elementów ubrania; okazała budowla mieszkalno-obronna) \n",
      "*  przeprowadzać na tychże danych wnioskowania, tzn. otrzymywać informacje na ich temat, które nie są zawarte explicite (np. na podstawie danej \"Ewa jest żoną Adama\", możemy też dowiedzieć się, że Ewa jest kobietą, Adam mężczyzną, Adam jest mężem Ewy, żaden inny mężczyzna nie jest mężem Ewy, etc.)\n",
      "http://dbpedia.org/resource/Semantic_Web http://www.w3.org/2002/07/owl#sameAs http://www.wikidata.org/entity/Q54837\n",
      "http://dbpedia.org/resource/Semantic_Web http://www.w3.org/1999/02/22-rdf-syntax-ns#type http://dbpedia.org/class/yago/Abstraction100002137\n",
      "http://dbpedia.org/resource/Semantic_Web http://www.w3.org/2000/01/rdf-schema#label Semantic Web\n",
      "http://dbpedia.org/resource/UMBEL http://dbpedia.org/ontology/genre http://dbpedia.org/resource/Semantic_Web\n",
      "http://dbpedia.org/resource/Semantic_Web http://www.w3.org/2000/01/rdf-schema#label Semantisch web\n",
      "http://dbpedia.org/resource/Extended_Semantic_Web_Conference http://dbpedia.org/ontology/academicDiscipline http://dbpedia.org/resource/Semantic_Web\n",
      "http://dbpedia.org/resource/International_Semantic_Web_Conference http://dbpedia.org/ontology/academicDiscipline http://dbpedia.org/resource/Semantic_Web\n",
      "http://dbpedia.org/resource/Semantic_Web http://dbpedia.org/ontology/abstract 语义网（Semantic Web）是由万维网联盟的蒂姆·伯纳斯-李（Tim Berners-Lee）在1998年提出的一个概念，它的核心是：通过给万维网上的文档（如: HTML）添加能够被计算机所理解的语义（Meta data），从而使整个互联网成为一个通用的信息交换媒介。语义万维网通过使用标准、置标语言和相关的处理工具来扩展万维网的能力。不过语意网概念实际上是基于很多已有技术的，也依赖于后来和text-and-markup与知识表现的综合。那些渊源甚至可以追溯到20世纪60年代末期的Allan M. Collins、M. Ross Quillian、Elizabeth F. Loftus等人的研究，还有之后70年代初R.F.Simon、R.C.Schamk、Minsky等人陆续提出的一些理论上的成果，其中Simon在进行自然语言理解的应用研究时提出了语义网络Semantic Network（不是现在的Semantic Web）的概念。当时人们甚至发明了以逻辑为基础的程序设计语言Prolog。 \"语义\"网是由比现今成熟的网际搜索工具更加行之有效的、更加广泛意义的并且自动聚集和搜集信息的文档组成的。其最基本的元素就是语义链接。 通过下列方法可以提升全球資訊網以及其互连的资源的易用性（usability）和實用性（usefulness）： \n",
      "* \"标记\"了语义信息的文档。这可以是机器可以理解的关于文档内容（例如文档的作者,标题,简介等)的描述,或者是描述该网站所拥有的服务和资源.(注意:任何东西都是能被URI-统一资源定位符-所描述的,因此语义网能理解人物、地方、想法、類別等等) \n",
      "* 通用元数据詞滙表(本体论)及詞滙間的影射使得文檔作者知道如何來標記文檔方可讓機器識別他想提供的元數據. \n",
      "* 利用元数据为语义网用户执行任务的自动软件代理(agent). \n",
      "* 為自動軟件代理提供特定信息的網絡服务 (例如,可信度服務可以讓軟件代理查詢某個在线商店是否曾經有過不良紀錄或者發送過垃圾郵件).\n",
      "http://dbpedia.org/resource/Semantic_Web http://www.w3.org/2002/07/owl#sameAs http://ja.dbpedia.org/resource/セマンティック・ウェブ\n",
      "http://dbpedia.org/resource/Amit_Sheth http://dbpedia.org/property/fields http://dbpedia.org/resource/Semantic_Web\n",
      "http://dbpedia.org/resource/Notation3 http://dbpedia.org/property/genre http://dbpedia.org/resource/Semantic_Web\n",
      "http://dbpedia.org/resource/Semantic_Web http://www.w3.org/2000/01/rdf-schema#label Web semantico\n",
      "http://dbpedia.org/resource/Semantic_Web http://www.w3.org/ns/prov#wasDerivedFrom http://en.wikipedia.org/wiki/Semantic_Web?oldid=741952532\n",
      "http://dbpedia.org/resource/Semantic_internet http://dbpedia.org/ontology/wikiPageRedirects http://dbpedia.org/resource/Semantic_Web\n",
      "http://dbpedia.org/resource/Semantic_Web http://www.w3.org/1999/02/22-rdf-syntax-ns#type http://dbpedia.org/ontology/Software\n",
      "http://dbpedia.org/resource/Semantic_Web http://dbpedia.org/property/d Q54837\n",
      "http://dbpedia.org/resource/James_Hendler http://dbpedia.org/ontology/knownFor http://dbpedia.org/resource/Semantic_Web\n",
      "http://dbpedia.org/resource/TriG_(syntax) http://dbpedia.org/property/genre http://dbpedia.org/resource/Semantic_Web\n",
      "http://dbpedia.org/resource/Semantic_Web http://www.w3.org/1999/02/22-rdf-syntax-ns#type http://dbpedia.org/class/yago/WikicatInternetAges\n",
      "http://dbpedia.org/resource/Semantic_Web http://www.w3.org/2000/01/rdf-schema#comment Le Web sémantique, ou toile sémantique, est une extension du Web standardisée par le World Wide Web Consortium (W3C). Ces standards encouragent l'utilisation de formats de données et de protocoles d'échange normés sur le Web, avec comme format de base le Resource Description Framework (RDF).\n",
      "http://dbpedia.org/resource/Semantic_Web http://www.w3.org/1999/02/22-rdf-syntax-ns#type http://dbpedia.org/class/yago/Work100575741\n",
      "http://dbpedia.org/resource/Semantic_Web http://dbpedia.org/ontology/abstract A Web semântica é uma extensão da World Wide Web atual, que permitirá aos computadores e humanos trabalharem em cooperação. A Web semântica interliga significados de palavras e, neste âmbito, tem como finalidade conseguir atribuir um significado (sentido) aos conteúdos publicados na Internet de modo que seja perceptível tanto pelo humano como pelo computador. A ideia da Web Semântica surgiu em 2001, quando Tim Berners-Lee, James Hendler e Ora Lassila publicaram um artigo na revista Scientific American, intitulado: “Web Semântica: um novo formato de conteúdo para a Web que tem significado para computadores vai iniciar uma revolução de novas possibilidades.” A web semântica é a relação de interatividade do homem e o computador, onde um depende do outro para a conclusão de tarefas, assim acepção de entendimento do comando estipulado do ser humano à interface operacional da maquina dando um significado de ordem a ser executada. Sendo desta forma uma espécie de escrita de entendimento tanto para o computador e para usuário, por meio de organização das informações contida na máquina, através do seu perfil de suas últimas pesquisas realizadas, originando um repositório de dados lincados, como se fosse um verbete de enciclopédia. Podemos fazer uma assimilação da web semântica com a Ciência da Informação, pelo fato de possuir a ideia estrutural de arranjo sistêmico, agrupando um conjunto de coleta de análise, classificação, armazenamento, disseminação e recuperação de informação como se fosse uma enciclopédia. O objetivo principal da web semântica não é, pelo menos para já, treinar as máquinas para que se comportem como pessoas, mas sim desenvolver tecnologias e linguagens que tornem a informação legível para as máquinas. A finalidade passa pelo desenvolvimento de um modelo tecnológico que permita a partilha global de conhecimento assistido por máquinas (W3C 2001). A integração das linguagens ou tecnologias eXtensible Markup Language (XML), Resource Description Framework (RDF), arquiteturas de metadados, ontologias, agentes computacionais, entre outras, favorecerá o aparecimento de serviços Web que garantam a interoperabilidade e cooperação. Ultimamente tem-se associado a Web Semântica à Web 3.0, como um próximo movimento da internet depois da Web 2.0 que já inicia seu crescimento.\n",
      "http://dbpedia.org/resource/Semantic_Web http://dbpedia.org/property/n no\n",
      "http://dbpedia.org/resource/Semantic_Web http://www.w3.org/1999/02/22-rdf-syntax-ns#type http://dbpedia.org/class/yago/Attribute100024264\n",
      "http://dbpedia.org/resource/Semantic_Web http://www.w3.org/2000/01/rdf-schema#comment Das Semantic Web erweitert das Web, um Daten zwischen Rechnern einfacher austauschbar und für sie einfacher verwertbar zu machen; so kann beispielsweise der Begriff „Bremen“ in einem Webdokument um die Information ergänzt werden, ob hier ein Schiffs-, Familien- oder der Stadtname gemeint ist. Diese zusätzlichen Informationen explizieren die sonst nur unstrukturiert vorkommenden Daten. Zur Realisierung dienen Standards zur Veröffentlichung und Nutzung maschinenlesbarer Daten (insbesondere RDF).\n",
      "http://dbpedia.org/resource/Mulgara_(software) http://dbpedia.org/ontology/genre http://dbpedia.org/resource/Semantic_Web\n",
      "http://dbpedia.org/resource/Semantic_Web http://purl.org/dc/terms/subject http://dbpedia.org/resource/Category:Knowledge_engineering\n",
      "http://dbpedia.org/resource/Semantic_Web http://www.w3.org/2002/07/owl#sameAs http://fr.dbpedia.org/resource/Web_sémantique\n",
      "http://dbpedia.org/resource/Semantic_Web http://www.w3.org/1999/02/22-rdf-syntax-ns#type http://dbpedia.org/class/yago/Event100029378\n",
      "http://dbpedia.org/resource/Semantic_Web http://dbpedia.org/ontology/wikiPageExternalLink http://www-sop.inria.fr/acacia/soft/corese/\n",
      "http://dbpedia.org/resource/Criticism_of_the_Semantic_Web http://dbpedia.org/ontology/wikiPageRedirects http://dbpedia.org/resource/Semantic_Web\n",
      "http://dbpedia.org/resource/Semantic-web http://dbpedia.org/ontology/wikiPageRedirects http://dbpedia.org/resource/Semantic_Web\n",
      "http://dbpedia.org/resource/Marc_Twagirumukiza http://dbpedia.org/ontology/field http://dbpedia.org/resource/Semantic_Web\n",
      "http://dbpedia.org/resource/Semantic_Web http://www.w3.org/2000/01/rdf-schema#comment Het semantisch web verschaft een standaardframework waarmee data gedeeld en hergebruikt kunnen worden. Het is een samenwerking onder leiding van het internationale orgaan voor internetstandaarden, het World Wide Web Consortium (W3C). Het semantisch web is geen synoniem voor Web 2.0, zoals soms wel wordt verondersteld. Tim Berners-Lee beschreef het semantische web als een component van 'Web 3.0'. Soms wordt het gebruikt als synoniem voor Web 3.0, hoewel de definities verschillen.\n",
      "http://dbpedia.org/resource/SemWeb http://dbpedia.org/ontology/wikiPageRedirects http://dbpedia.org/resource/Semantic_Web\n",
      "http://en.wikipedia.org/wiki/Semantic_Web http://xmlns.com/foaf/0.1/primaryTopic http://dbpedia.org/resource/Semantic_Web\n",
      "http://dbpedia.org/resource/Semantic_Web http://www.w3.org/1999/02/22-rdf-syntax-ns#type http://dbpedia.org/class/yago/Property104916342\n",
      "http://dbpedia.org/resource/Semantic_Web http://www.w3.org/1999/02/22-rdf-syntax-ns#type http://dbpedia.org/class/yago/YagoPermanentlyLocatedEntity\n",
      "http://dbpedia.org/resource/Semantic_Web http://www.w3.org/2002/07/owl#sameAs http://yago-knowledge.org/resource/Semantic_Web\n",
      "http://dbpedia.org/resource/RDFa http://dbpedia.org/property/domain http://dbpedia.org/resource/Semantic_Web\n",
      "http://dbpedia.org/resource/Semantic_Web http://www.w3.org/2000/01/rdf-schema#label Web sémantique\n",
      "http://dbpedia.org/resource/Semantic_Web http://dbpedia.org/property/b no\n",
      "http://dbpedia.org/resource/RDF/XML http://dbpedia.org/property/genre http://dbpedia.org/resource/Semantic_Web\n",
      "http://dbpedia.org/resource/Web_3.0 http://dbpedia.org/ontology/wikiPageRedirects http://dbpedia.org/resource/Semantic_Web\n",
      "http://dbpedia.org/resource/Semantic_Web http://www.w3.org/1999/02/22-rdf-syntax-ns#type http://dbpedia.org/class/yago/Buzzword106608277\n",
      "http://dbpedia.org/resource/Semweb http://dbpedia.org/ontology/wikiPageRedirects http://dbpedia.org/resource/Semantic_Web\n",
      "http://dbpedia.org/resource/Semantic_Web http://www.w3.org/2000/01/rdf-schema#label Semantic Web\n",
      "http://dbpedia.org/resource/Schema.org http://dbpedia.org/property/domain http://dbpedia.org/resource/Semantic_Web\n",
      "http://dbpedia.org/resource/Semantic_Web http://dbpedia.org/property/v no\n",
      "http://dbpedia.org/resource/DBpedia http://dbpedia.org/ontology/genre http://dbpedia.org/resource/Semantic_Web\n",
      "http://dbpedia.org/resource/RuleML http://dbpedia.org/property/focus http://dbpedia.org/resource/Semantic_Web\n",
      "http://dbpedia.org/resource/Semantic_Web http://www.w3.org/1999/02/22-rdf-syntax-ns#type http://dbpedia.org/class/yago/Communication100033020\n",
      "http://dbpedia.org/resource/N-Triples http://dbpedia.org/property/genre http://dbpedia.org/resource/Semantic_Web\n",
      "http://dbpedia.org/resource/Semantic_Web http://dbpedia.org/ontology/abstract Семанти́ческая паути́на (англ. semantic web) — это общедоступная глобальная семантическая сеть, формируемая на базе Всемирной паутины путём стандартизации представления информации в виде, пригодном для машинной обработки. В обычной Всемирной паутине, основанной на HTML-страницах, информация заложена в тексте страниц и предназначена для чтения и понимания человеком. Семантическая паутина состоит из машинно-читаемых элементов — узлов семантической сети, с опорой на онтологии. Благодаря этому программы-клиенты получают возможность непосредственно получать из интернета утверждения вида «предмет — вид взаимосвязи — другой предмет» и вычислять по ним логические заключения. Семантическая паутина работает параллельно с обычной Всемирной паутиной и на её основе, используя протокол HTTP и идентификаторы ресурсов URI. Название «Семантическая паутина» было впервые введено сэром Тимом Бернерсом-Ли (изобретателем Всемирной паутины) в сентябре 1998 года, и называется им «следующим шагом в развитии Всемирной паутины». Позже в своём блоге он предложил в качестве синонима термин «гигантский глобальный граф» (англ. giant global graph, GGG, по аналогии с WWW). Концепция семантической паутины была принята и продвигается консорциумом Всемирной паутины.\n",
      "http://dbpedia.org/resource/The_semantic_web http://dbpedia.org/ontology/wikiPageRedirects http://dbpedia.org/resource/Semantic_Web\n",
      "http://dbpedia.org/resource/Semantic_Web http://www.w3.org/1999/02/22-rdf-syntax-ns#type http://dbpedia.org/class/yago/Nonsense106607339\n",
      "http://dbpedia.org/resource/Semantic_Web http://dbpedia.org/ontology/abstract The Semantic Web is an extension of the Web through standards by the World Wide Web Consortium (W3C). The standards promote common data formats and exchange protocols on the Web, most fundamentally the Resource Description Framework (RDF). According to the W3C, \"The Semantic Web provides a common framework that allows data to be shared and reused across application, enterprise, and community boundaries\". The term was coined by Tim Berners-Lee for a web of data that can be processed by machines.While its critics have questioned its feasibility, proponents argue that applications in industry, biology and human sciences research have already proven the validity of the original concept. The 2001 Scientific American article by Berners-Lee, Hendler, and Lassila described an expected evolution of the existing Web to a Semantic Web. In 2006, Berners-Lee and colleagues stated that: \"This simple idea…remains largely unrealized\".In 2013, more than four million Web domains contained Semantic Web markup.\n",
      "http://dbpedia.org/resource/Semantic_Web http://purl.org/dc/terms/subject http://dbpedia.org/resource/Category:Buzzwords\n",
      "http://dbpedia.org/resource/Semantic_Web http://dbpedia.org/ontology/abstract Het semantisch web verschaft een standaardframework waarmee data gedeeld en hergebruikt kunnen worden. Het is een samenwerking onder leiding van het internationale orgaan voor internetstandaarden, het World Wide Web Consortium (W3C). Het semantisch web is geen synoniem voor Web 2.0, zoals soms wel wordt verondersteld. Tim Berners-Lee beschreef het semantische web als een component van 'Web 3.0'. Soms wordt het gebruikt als synoniem voor Web 3.0, hoewel de definities verschillen.\n",
      "http://dbpedia.org/resource/Semantic_Web http://dbpedia.org/ontology/abstract Con il termine web semantico, termine coniato dal suo ideatore, Tim Berners-Lee, si intende la trasformazione del World Wide Web in un ambiente dove i documenti pubblicati (pagine HTML, file, immagini, e così via) sono associati ad informazioni e dati (metadati) che ne specificano il contesto semantico in un formato adatto all'interrogazione e l'interpretazione (es. tramite motori di ricerca) e, più in generale, all'elaborazione automatica. Con l'interpretazione del contenuto dei documenti che il Web semantico impone, saranno possibili ricerche molto più evolute delle attuali, basate sulla presenza nel documento di parole chiave, e altre operazioni specialistiche come la costruzione di reti di relazioni e connessioni tra documenti secondo logiche più elaborate del semplice collegamento ipertestuale.\n",
      "http://dbpedia.org/resource/Jena_(framework) http://dbpedia.org/ontology/genre http://dbpedia.org/resource/Semantic_Web\n",
      "http://dbpedia.org/resource/Semantic_Web http://www.w3.org/2002/07/owl#sameAs http://cs.dbpedia.org/resource/Sémantický_web\n",
      "http://dbpedia.org/resource/Semantic_Web http://www.w3.org/1999/02/22-rdf-syntax-ns#type http://dbpedia.org/class/yago/PsychologicalFeature100023100\n",
      "http://dbpedia.org/resource/Semantic_Web http://www.w3.org/1999/02/22-rdf-syntax-ns#type http://dbpedia.org/class/yago/Service100577525\n",
      "http://dbpedia.org/resource/Semantic_Web http://www.w3.org/2000/01/rdf-schema#label 语义网\n",
      "http://dbpedia.org/resource/Semantic_Web http://dbpedia.org/ontology/abstract Le Web sémantique, ou toile sémantique, est une extension du Web standardisée par le World Wide Web Consortium (W3C). Ces standards encouragent l'utilisation de formats de données et de protocoles d'échange normés sur le Web, avec comme format de base le Resource Description Framework (RDF). Selon le W3C, « le Web sémantique fournit un modèle qui permet aux données d'être partagées et réutilisées entre plusieurs applications, entreprises et groupes d'utilisateurs ». L'expression a été inventée par Tim Berners-Lee (inventeur du Web et directeur du W3C), qui supervise le développement des technologies communes du Web sémantique. Il le définit comme « une toile de données qui peuvent être traitées directement et indirectement par des machines pour aider leurs utilisateurs à créer de nouvelles connaissances ». Pour y parvenir, le Web sémantique met en œuvre le Web des données qui consiste à lier et structurer l'information sur Internet pour accéder simplement à la connaissance qu'elle contient déjà. Alors que ses détracteurs ont mis en doute sa faisabilité, ses promoteurs font valoir que les applications réalisées par les chercheurs dans l'industrie, la biologie et les sciences humaines ont déjà prouvé la validité de ce nouveau concept. L'article original de Tim Berners-Lee en 2001 dans le Scientific American a décrit une évolution attendue du Web existant vers un Web sémantique, mais cela n'a pas encore eu lieu. En 2006, Tim Berners-Lee et ses collègues ont déclaré : « Cette idée simple… reste largement inexploitée. »\n",
      "http://dbpedia.org/resource/Semantic_Web http://www.w3.org/1999/02/22-rdf-syntax-ns#type http://dbpedia.org/class/yago/Message106598915\n",
      "http://dbpedia.org/resource/Semantic_Web http://dbpedia.org/ontology/thumbnail http://commons.wikimedia.org/wiki/Special:FilePath/RDF_example.svg?width=300\n",
      "http://dbpedia.org/resource/Wendy_Hall http://dbpedia.org/ontology/field http://dbpedia.org/resource/Semantic_Web\n",
      "http://dbpedia.org/resource/Joseph_G._Davis http://dbpedia.org/ontology/field http://dbpedia.org/resource/Semantic_Web\n",
      "http://dbpedia.org/resource/TriX_(syntax) http://dbpedia.org/property/genre http://dbpedia.org/resource/Semantic_Web\n",
      "http://dbpedia.org/resource/Semantic_Web http://dbpedia.org/ontology/wikiPageExternalLink http://esw.w3.org/topic/ConverterToRdf\n",
      "http://dbpedia.org/resource/Semantic_Web http://www.w3.org/2002/07/owl#sameAs http://pl.dbpedia.org/resource/Semantic_Web\n",
      "http://dbpedia.org/resource/Semantic_Web http://www.w3.org/2000/01/rdf-schema#comment A Web semântica é uma extensão da World Wide Web atual, que permitirá aos computadores e humanos trabalharem em cooperação. A Web semântica interliga significados de palavras e, neste âmbito, tem como finalidade conseguir atribuir um significado (sentido) aos conteúdos publicados na Internet de modo que seja perceptível tanto pelo humano como pelo computador. A ideia da Web Semântica surgiu em 2001, quando Tim Berners-Lee, James Hendler e Ora Lassila publicaram um artigo na revista Scientific American, intitulado: “Web Semântica: um novo formato de conteúdo para a Web que tem significado para computadores vai iniciar uma revolução de novas possibilidades.”\n",
      "http://dbpedia.org/resource/Semantic_Web http://www.w3.org/1999/02/22-rdf-syntax-ns#type http://dbpedia.org/class/yago/Activity100407535\n",
      "http://dbpedia.org/resource/Deborah_McGuinness http://dbpedia.org/ontology/knownFor http://dbpedia.org/resource/Semantic_Web\n",
      "http://dbpedia.org/resource/Semantic_integrity http://dbpedia.org/ontology/wikiPageRedirects http://dbpedia.org/resource/Semantic_Web\n",
      "http://dbpedia.org/resource/Turtle_(syntax) http://dbpedia.org/property/genre http://dbpedia.org/resource/Semantic_Web\n",
      "http://dbpedia.org/resource/Semantic_Web http://purl.org/dc/terms/subject http://dbpedia.org/resource/Category:Emerging_technologies\n",
      "http://dbpedia.org/resource/Semantic_Web http://dbpedia.org/ontology/wikiPageExternalLink http://www.springer.com/computer/database+management+%26+information+retrieval/book/978-3-662-43795-7\n",
      "http://dbpedia.org/resource/Stardog http://dbpedia.org/ontology/genre http://dbpedia.org/resource/Semantic_Web\n",
      "http://dbpedia.org/resource/Semantic_Web http://www.w3.org/1999/02/22-rdf-syntax-ns#type http://dbpedia.org/class/yago/WikicatWebServices\n",
      "http://dbpedia.org/resource/Semantic_Web http://www.w3.org/2000/01/rdf-schema#comment 语义网（Semantic Web）是由万维网联盟的蒂姆·伯纳斯-李（Tim Berners-Lee）在1998年提出的一个概念，它的核心是：通过给万维网上的文档（如: HTML）添加能够被计算机所理解的语义（Meta data），从而使整个互联网成为一个通用的信息交换媒介。语义万维网通过使用标准、置标语言和相关的处理工具来扩展万维网的能力。不过语意网概念实际上是基于很多已有技术的，也依赖于后来和text-and-markup与知识表现的综合。那些渊源甚至可以追溯到20世纪60年代末期的Allan M. Collins、M. Ross Quillian、Elizabeth F. Loftus等人的研究，还有之后70年代初R.F.Simon、R.C.Schamk、Minsky等人陆续提出的一些理论上的成果，其中Simon在进行自然语言理解的应用研究时提出了语义网络Semantic Network（不是现在的Semantic Web）的概念。当时人们甚至发明了以逻辑为基础的程序设计语言Prolog。 \"语义\"网是由比现今成熟的网际搜索工具更加行之有效的、更加广泛意义的并且自动聚集和搜集信息的文档组成的。其最基本的元素就是语义链接。 通过下列方法可以提升全球資訊網以及其互连的资源的易用性（usability）和實用性（usefulness）：\n",
      "http://dbpedia.org/resource/Semantic_Web http://dbpedia.org/ontology/wikiPageExternalLink http://www.amazon.com/gp/product/0470396792\n",
      "http://dbpedia.org/resource/Semantic_Web http://dbpedia.org/property/q no\n",
      "http://dbpedia.org/resource/David_Karger http://dbpedia.org/ontology/field http://dbpedia.org/resource/Semantic_Web\n",
      "http://dbpedia.org/resource/Semantic_Web http://dbpedia.org/ontology/wikiPageExternalLink http://www.w3.org/standards/semanticweb/\n",
      "http://dbpedia.org/resource/Semantic_Web http://www.w3.org/2000/01/rdf-schema#label Web semântica\n",
      "http://dbpedia.org/resource/Semantic_Web http://purl.org/dc/terms/subject http://dbpedia.org/resource/Category:Web_services\n",
      "http://dbpedia.org/resource/Semantic_Internet http://dbpedia.org/ontology/wikiPageRedirects http://dbpedia.org/resource/Semantic_Web\n",
      "http://dbpedia.org/resource/Rudi_Studer http://dbpedia.org/ontology/field http://dbpedia.org/resource/Semantic_Web\n",
      "http://dbpedia.org/resource/Semantic_Web http://dbpedia.org/ontology/wikiPageID 29123\n",
      "http://dbpedia.org/resource/Semantic_Web http://purl.org/dc/terms/subject http://dbpedia.org/resource/Category:Semantic_Web\n",
      "http://dbpedia.org/resource/Semantic_Web http://xmlns.com/foaf/0.1/isPrimaryTopicOf http://en.wikipedia.org/wiki/Semantic_Web\n",
      "http://dbpedia.org/resource/RDF_Schema http://dbpedia.org/property/domain http://dbpedia.org/resource/Semantic_Web\n",
      "http://dbpedia.org/resource/Semantic_Web http://www.w3.org/2002/07/owl#sameAs http://pt.dbpedia.org/resource/Web_semântica\n",
      "http://dbpedia.org/resource/Semantic_Web http://www.w3.org/2002/07/owl#sameAs http://rdf.freebase.com/ns/m.076k0\n",
      "http://dbpedia.org/resource/Semantic_Web http://www.w3.org/2000/01/rdf-schema#label Semantic Web\n",
      "http://dbpedia.org/resource/Semantic_Web http://www.w3.org/2000/01/rdf-schema#comment إن ورود المعلومات على الإنترنت يزداد بشكل كبير، فقد أصبح الإنترنت مكانًا للتعبير عن الأفكار، سرد القصص، إنشاء المدونات ومشاركة الفيديوهات والصور والملفات الصوتية وما إلى ذلك. وهو ما جعل كمّ المعلومات المتوفرة للفرد الواحد أكبر بكثير ممايُمكن له أن يستفيد منه. تعريض العقل البشري لهذا الكم الهائل من المعلومات من شأنه أن يتسبب فيما يُمكن أن نصفه بوصف \"الضياع في فضاء المعلومات\"، وذلك راجع إلى بقاء المعلومات المفيدة بعيدة المنال بسبب تراكم الكثير من المعلومات غير المفيدة وغير المرتبطة بالموضوع المراد البحث عنه من قبل المستخدم.لحسن الحظ، مثلما يزداد ورود المعلومات، تزداد مقدرات معالجة المعلومات اوتوماتيكياً، لذا يوجد إمكانيات كبيرة للاستفادة من مقدرات الأتمتة هذه بهدف استخراج المعلومات والخدمات من فيضان الويب والمرتبطة بالمستخدم، وتوصيلها إليه عن طريق واجهة مستخدم معيارية (Standardized User Inte\n",
      "http://dbpedia.org/resource/AdExtent http://dbpedia.org/ontology/genre http://dbpedia.org/resource/Semantic_Web\n",
      "http://dbpedia.org/resource/Semantic_Web http://www.w3.org/1999/02/22-rdf-syntax-ns#type http://dbpedia.org/class/yago/Act100030358\n",
      "http://dbpedia.org/resource/Semantic_Web http://www.w3.org/2000/01/rdf-schema#comment Семанти́ческая паути́на (англ. semantic web) — это общедоступная глобальная семантическая сеть, формируемая на базе Всемирной паутины путём стандартизации представления информации в виде, пригодном для машинной обработки.\n",
      "http://dbpedia.org/resource/Semantic_Web http://dbpedia.org/ontology/abstract إن ورود المعلومات على الإنترنت يزداد بشكل كبير، فقد أصبح الإنترنت مكانًا للتعبير عن الأفكار، سرد القصص، إنشاء المدونات ومشاركة الفيديوهات والصور والملفات الصوتية وما إلى ذلك. وهو ما جعل كمّ المعلومات المتوفرة للفرد الواحد أكبر بكثير ممايُمكن له أن يستفيد منه. تعريض العقل البشري لهذا الكم الهائل من المعلومات من شأنه أن يتسبب فيما يُمكن أن نصفه بوصف \"الضياع في فضاء المعلومات\"، وذلك راجع إلى بقاء المعلومات المفيدة بعيدة المنال بسبب تراكم الكثير من المعلومات غير المفيدة وغير المرتبطة بالموضوع المراد البحث عنه من قبل المستخدم.لحسن الحظ، مثلما يزداد ورود المعلومات، تزداد مقدرات معالجة المعلومات اوتوماتيكياً، لذا يوجد إمكانيات كبيرة للاستفادة من مقدرات الأتمتة هذه بهدف استخراج المعلومات والخدمات من فيضان الويب والمرتبطة بالمستخدم، وتوصيلها إليه عن طريق واجهة مستخدم معيارية (Standardized User Interface). إن أهمية الحصول على المعلومات بهذه الطريقة التكيفية يزداد بازدياد كتلة المعلومات المتوفرة على الإنترنت. تعتبر شبكة الوب أغنى المصادر المعلوماتية بما تحويه من مستندات ومعلومات ومصادر منوعة يمكن الوصول إليها عن طريق محركات البحث التقليدية. غير أن تنظيم هذه المعلومات والمستندات بصورة تسهل عملية البحث فيها والوصول إليها، يعتبر أمراً غاية في الصعوبة. يضاف إلى ذلك، أنه في ظل التزايد المستمر في حجم المعلومات المنشورة في شبكة الويب أصبح من الصعوبة بمكان قيام محركات البحث بإيجاد المعلومات المناسبة. ومن هذه المشكلة ظهرت فكرة \"الويب ذات الدلالات والمعاني اللفظية\"، أو ما يطلق عليه بالإنجليزية مصطلح (Semantic Web)، والتي هي امتداد للويب الحالية ولكن تختلف عنها بأنها تتفهم مدلولات الألفاظ والمعاني البشرية.\n",
      "http://dbpedia.org/resource/Semantic_Web http://dbpedia.org/property/s no\n",
      "http://dbpedia.org/resource/Syntactic_Web http://dbpedia.org/ontology/wikiPageRedirects http://dbpedia.org/resource/Semantic_Web\n",
      "http://dbpedia.org/resource/Ontotext http://dbpedia.org/ontology/industry http://dbpedia.org/resource/Semantic_Web\n",
      "http://dbpedia.org/resource/Sesame_(framework) http://dbpedia.org/ontology/genre http://dbpedia.org/resource/Semantic_Web\n",
      "http://dbpedia.org/resource/Semantic_Web http://dbpedia.org/ontology/wikiPageExternalLink http://www.w3.org/2005/Incubator/urw3/XGR-urw3-20080331/\n",
      "http://dbpedia.org/resource/Semantic_Web http://www.w3.org/1999/02/22-rdf-syntax-ns#type http://www.w3.org/2002/07/owl#Thing\n",
      "http://dbpedia.org/resource/Semantic_Web http://www.w3.org/2002/07/owl#sameAs http://de.dbpedia.org/resource/Semantic_Web\n",
      "http://dbpedia.org/resource/Semantic_Web http://www.w3.org/2002/07/owl#sameAs http://es.dbpedia.org/resource/Web_semántica\n",
      "http://dbpedia.org/resource/Semantic_Web http://www.w3.org/2002/07/owl#sameAs http://it.dbpedia.org/resource/Web_semantico\n",
      "http://dbpedia.org/resource/Semantic_Web http://dbpedia.org/property/wikt no\n",
      "http://dbpedia.org/resource/Semantic_Web http://www.w3.org/2000/01/rdf-schema#comment Con il termine web semantico, termine coniato dal suo ideatore, Tim Berners-Lee, si intende la trasformazione del World Wide Web in un ambiente dove i documenti pubblicati (pagine HTML, file, immagini, e così via) sono associati ad informazioni e dati (metadati) che ne specificano il contesto semantico in un formato adatto all'interrogazione e l'interpretazione (es. tramite motori di ricerca) e, più in generale, all'elaborazione automatica.\n",
      "http://dbpedia.org/resource/Semantic_Web http://www.w3.org/2002/07/owl#sameAs http://eu.dbpedia.org/resource/Web_semantiko\n",
      "http://dbpedia.org/resource/Semantic_Web http://dbpedia.org/ontology/wikiPageRevisionID 741952532\n",
      "http://dbpedia.org/resource/Semantic_Web http://www.w3.org/2002/07/owl#sameAs http://rdf.freebase.com/ns/m.0bbv9w2\n",
      "http://dbpedia.org/resource/YAGO_(database) http://dbpedia.org/ontology/genre http://dbpedia.org/resource/Semantic_Web\n",
      "http://dbpedia.org/resource/Semantic_Web http://dbpedia.org/ontology/abstract セマンティック・ウェブ（英: semantic web）は W3C のティム・バーナーズ＝リーによって提唱された、ウェブページの意味を扱うことを可能とする標準やツール群の開発によってワールド・ワイド・ウェブの利便性を向上させるプロジェクト。セマンティック・ウェブの目的はウェブページの閲覧という行為に、データの交換の側面に加えて意味の疎通を付け加えることにある。 現在のワールド・ワイド・ウェブ上のコンテンツは主にHTMLで記述されている。HTMLでは文書構造を伝えることは可能だが、個々の単語の意味をはじめとする詳細な意味を伝えることはできない。これに対し、セマンティック・ウェブはXMLによって記述した文書にRDFやOWLを用いてタグを付け加える。この、データの意味を記述したタグが文書の含む意味を形式化し、コンピュータによる自動的な情報の収集や分析へのアプローチが可能となると期待されている。オントロジーを扱う階層まではW3Cにより標準化されているが、それ以上の階層の開発は難しいため、実現と標準化には長期間掛かると予想されている。また、既存のWebサイトに対するメタデータ付与の作業が必要であるため、Web全域への普及に関しても長期間掛かると予想されている。 セマンティックウェブはXML、XML Schema、RDF、RDF Schema、OWLなどの標準およびツール群から構成されている。「OWL ウェブ・オントロジー言語概要」はセマンティックウェブにおけるこれら標準およびツール群の機能・関連について述べている。\n",
      "http://dbpedia.org/resource/Semantic_Web http://www.w3.org/2002/07/owl#sameAs http://el.dbpedia.org/resource/Σημασιολογικός_Ιστός\n",
      "http://dbpedia.org/resource/Semantic_Web http://dbpedia.org/property/commons Category:Semantic Web\n",
      "http://dbpedia.org/resource/Semantic_Web http://www.w3.org/1999/02/22-rdf-syntax-ns#type http://dbpedia.org/class/yago/WikicatBuzzwords\n",
      "http://dbpedia.org/resource/Semantic_Web http://xmlns.com/foaf/0.1/homepage http://www.w3.org/standards/semanticweb/\n",
      "http://dbpedia.org/resource/Carole_Goble http://dbpedia.org/ontology/field http://dbpedia.org/resource/Semantic_Web\n",
      "http://dbpedia.org/resource/Semantic_Web http://www.w3.org/2000/01/rdf-schema#comment Semantic Web (sieci semantyczne) – projekt, który ma przyczynić się do utworzenia i rozpowszechnienia standardów opisywania treści w Internecie w sposób, który umożliwi maszynom i programom (np. tzw. agentom) przetwarzanie informacji w sposób odpowiedni do ich znaczenia. Wśród standardów sieci semantycznych znajdują się m.in. OWL, RDF, RDF Schema (inaczej RDFS). Znaczenia zasobów informacyjnych określa się za pomocą tzw. ontologii.\n",
      "http://dbpedia.org/resource/Semantic_Web http://www.w3.org/2000/01/rdf-schema#comment The Semantic Web is an extension of the Web through standards by the World Wide Web Consortium (W3C). The standards promote common data formats and exchange protocols on the Web, most fundamentally the Resource Description Framework (RDF). The 2001 Scientific American article by Berners-Lee, Hendler, and Lassila described an expected evolution of the existing Web to a Semantic Web. In 2006, Berners-Lee and colleagues stated that: \"This simple idea…remains largely unrealized\".In 2013, more than four million Web domains contained Semantic Web markup.\n",
      "http://dbpedia.org/resource/Nigel_Shadbolt http://dbpedia.org/ontology/field http://dbpedia.org/resource/Semantic_Web\n",
      "http://dbpedia.org/resource/Semantic_Web http://www.w3.org/2000/01/rdf-schema#comment セマンティック・ウェブ（英: semantic web）は W3C のティム・バーナーズ＝リーによって提唱された、ウェブページの意味を扱うことを可能とする標準やツール群の開発によってワールド・ワイド・ウェブの利便性を向上させるプロジェクト。セマンティック・ウェブの目的はウェブページの閲覧という行為に、データの交換の側面に加えて意味の疎通を付け加えることにある。 現在のワールド・ワイド・ウェブ上のコンテンツは主にHTMLで記述されている。HTMLでは文書構造を伝えることは可能だが、個々の単語の意味をはじめとする詳細な意味を伝えることはできない。これに対し、セマンティック・ウェブはXMLによって記述した文書にRDFやOWLを用いてタグを付け加える。この、データの意味を記述したタグが文書の含む意味を形式化し、コンピュータによる自動的な情報の収集や分析へのアプローチが可能となると期待されている。オントロジーを扱う階層まではW3Cにより標準化されているが、それ以上の階層の開発は難しいため、実現と標準化には長期間掛かると予想されている。また、既存のWebサイトに対するメタデータ付与の作業が必要であるため、Web全域への普及に関しても長期間掛かると予想されている。\n",
      "http://dbpedia.org/resource/Semantic_Web http://dbpedia.org/ontology/abstract Das Semantic Web erweitert das Web, um Daten zwischen Rechnern einfacher austauschbar und für sie einfacher verwertbar zu machen; so kann beispielsweise der Begriff „Bremen“ in einem Webdokument um die Information ergänzt werden, ob hier ein Schiffs-, Familien- oder der Stadtname gemeint ist. Diese zusätzlichen Informationen explizieren die sonst nur unstrukturiert vorkommenden Daten. Zur Realisierung dienen Standards zur Veröffentlichung und Nutzung maschinenlesbarer Daten (insbesondere RDF). Während Menschen solche Informationen aus dem gegebenen Kontext schließen können (aus dem Gesamttext, über die Art der Publikation oder der Rubrik in selbiger, Bilder etc.) und derartige Verknüpfungen unbewusst aufbauen, muss Maschinen dieser Kontext erst beigebracht werden; hierzu werden die Inhalte mit weiterführenden Informationen verknüpft. Das Semantic Web beschreibt dazu konzeptionell einen „Giant Global Graph“ (engl. ‚gigantischer globaler Graph‘). Dabei werden sämtliche Sachen von Interesse identifiziert und mit einer eindeutigen Adresse versehen als Knoten angelegt, die wiederum durch Kanten (ebenfalls jeweils eindeutig benannt) miteinander verbunden sind. Einzelne Dokumente im Web beschreiben dann eine Reihe von Kanten, und die Gesamtheit all dieser Kanten entspricht dem globalen Graphen.\n",
      "http://dbpedia.org/resource/Nigel_Shadbolt http://dbpedia.org/ontology/knownFor http://dbpedia.org/resource/Semantic_Web\n",
      "http://dbpedia.org/resource/Ian_Horrocks http://dbpedia.org/ontology/field http://dbpedia.org/resource/Semantic_Web\n",
      "http://dbpedia.org/resource/Semantic_Web http://www.w3.org/2000/01/rdf-schema#label セマンティック・ウェブ\n",
      "http://dbpedia.org/resource/Semantic_Web http://www.w3.org/2002/07/owl#sameAs http://nl.dbpedia.org/resource/Semantisch_web\n",
      "http://dbpedia.org/resource/Semantic_Web http://dbpedia.org/ontology/abstract La web semántica (del inglés semantic web) es un conjunto de actividades desarrolladas en el seno de World Wide Web Consortium con tendencia a la creación de tecnologías para publicar datos legibles por aplicaciones informáticas (máquinas en la terminología de la Web semántica). Se basa en la idea de añadir metadatos semánticos y ontológicos a la World Wide Web. Esas informaciones adicionales —que describen el contenido, el significado y la relación de los datos— se deben proporcionar de manera formal, para que así sea posible evaluarlas automáticamente por máquinas de procesamiento. El objetivo es mejorar Internet ampliando la interoperabilidad entre los sistemas informáticos usando \"agentes inteligentes\". Agentes inteligentes son programas en las computadoras que buscan información sin operadores humanos. El precursor de la idea, Tim Berners-Lee, intentó desde el principio incluir información semántica en su creación, la World Wide Web, pero por diferentes causas no fue posible. Por ese motivo introdujo el concepto de semántica con la intención de recuperar dicha omisión.\n",
      "http://dbpedia.org/resource/Frank_van_Harmelen http://dbpedia.org/ontology/field http://dbpedia.org/resource/Semantic_Web\n",
      "http://dbpedia.org/resource/Web_3 http://dbpedia.org/ontology/wikiPageRedirects http://dbpedia.org/resource/Semantic_Web\n",
      "http://dbpedia.org/resource/Semantic_Web http://www.w3.org/2000/01/rdf-schema#comment La web semántica (del inglés semantic web) es un conjunto de actividades desarrolladas en el seno de World Wide Web Consortium con tendencia a la creación de tecnologías para publicar datos legibles por aplicaciones informáticas (máquinas en la terminología de la Web semántica). Se basa en la idea de añadir metadatos semánticos y ontológicos a la World Wide Web. Esas informaciones adicionales —que describen el contenido, el significado y la relación de los datos— se deben proporcionar de manera formal, para que así sea posible evaluarlas automáticamente por máquinas de procesamiento. El objetivo es mejorar Internet ampliando la interoperabilidad entre los sistemas informáticos usando \"agentes inteligentes\". Agentes inteligentes son programas en las computadoras que buscan información sin o\n",
      "http://dbpedia.org/resource/Farshad_Fotouhi http://dbpedia.org/ontology/field http://dbpedia.org/resource/Semantic_Web\n",
      "http://dbpedia.org/resource/Semantic_Web http://www.w3.org/2000/01/rdf-schema#label Web semántica\n",
      "http://dbpedia.org/resource/Resource_Description_Framework http://dbpedia.org/property/domain http://dbpedia.org/resource/Semantic_Web\n",
      "http://dbpedia.org/resource/Semantic_Web http://www.w3.org/2002/07/owl#sameAs http://id.dbpedia.org/resource/Web_semantik\n",
      "http://dbpedia.org/resource/Semantic_Web http://purl.org/linguistics/gold/hypernym http://dbpedia.org/resource/Extension\n",
      "http://dbpedia.org/resource/Open_Semantic_Framework http://dbpedia.org/ontology/genre http://dbpedia.org/resource/Semantic_Web\n",
      "http://dbpedia.org/resource/Semantic_Web http://www.w3.org/1999/02/22-rdf-syntax-ns#type http://dbpedia.org/class/yago/Age104924103\n",
      "http://dbpedia.org/resource/Semantic_Web http://dbpedia.org/ontology/wikiPageExternalLink http://www.semantic-web-book.org\n",
      "http://dbpedia.org/resource/Semantic_Web http://www.w3.org/2002/07/owl#sameAs http://ko.dbpedia.org/resource/시맨틱_웹\n",
      "http://dbpedia.org/resource/Semantic_Web http://xmlns.com/foaf/0.1/depiction http://commons.wikimedia.org/wiki/Special:FilePath/RDF_example.svg\n",
      "http://dbpedia.org/resource/Semantic_web http://dbpedia.org/ontology/wikiPageRedirects http://dbpedia.org/resource/Semantic_Web\n",
      "http://dbpedia.org/resource/Semantic_Web http://www.w3.org/2002/07/owl#sameAs http://wikidata.dbpedia.org/resource/Q54837\n",
      "http://dbpedia.org/resource/Semantic_Web http://www.w3.org/2002/07/owl#sameAs http://dbpedia.org/resource/Semantic_Web\n",
      "http://dbpedia.org/resource/Semantic_Web http://purl.org/dc/terms/subject http://dbpedia.org/resource/Category:Internet_ages\n"
     ]
    }
   ],
   "source": [
    "g=rdflib.Graph()\n",
    "g.load('http://dbpedia.org/resource/Semantic_Web')\n",
    "\n",
    "for s,p,o in g:\n",
    "    print(s,p,o)\n"
   ]
  },
  {
   "cell_type": "code",
   "execution_count": 4,
   "metadata": {
    "collapsed": true
   },
   "outputs": [],
   "source": [
    "semweb=rdflib.URIRef('http://dbpedia.org/resource/Semantic_Web')\n",
    "type=g.value(semweb, rdflib.RDFS.label)\n"
   ]
  },
  {
   "cell_type": "code",
   "execution_count": 5,
   "metadata": {},
   "outputs": [
    {
     "data": {
      "text/plain": [
       "rdflib.term.Literal('ويب دلالي', lang='ar')"
      ]
     },
     "execution_count": 5,
     "metadata": {},
     "output_type": "execute_result"
    }
   ],
   "source": [
    "type"
   ]
  },
  {
   "cell_type": "code",
   "execution_count": 6,
   "metadata": {
    "collapsed": true
   },
   "outputs": [],
   "source": [
    "dbpedia=rdflib.Namespace('http://dbpedia.org/ontology/')\n",
    "\n",
    "abstracts=list(x for x in g.objects(semweb, dbpedia['abstract']) if x.language=='en')"
   ]
  },
  {
   "cell_type": "code",
   "execution_count": 7,
   "metadata": {},
   "outputs": [
    {
     "data": {
      "text/plain": [
       "[rdflib.term.Literal('The Semantic Web is an extension of the Web through standards by the World Wide Web Consortium (W3C). The standards promote common data formats and exchange protocols on the Web, most fundamentally the Resource Description Framework (RDF). According to the W3C, \"The Semantic Web provides a common framework that allows data to be shared and reused across application, enterprise, and community boundaries\". The term was coined by Tim Berners-Lee for a web of data that can be processed by machines.While its critics have questioned its feasibility, proponents argue that applications in industry, biology and human sciences research have already proven the validity of the original concept. The 2001 Scientific American article by Berners-Lee, Hendler, and Lassila described an expected evolution of the existing Web to a Semantic Web. In 2006, Berners-Lee and colleagues stated that: \"This simple idea…remains largely unrealized\".In 2013, more than four million Web domains contained Semantic Web markup.', lang='en')]"
      ]
     },
     "execution_count": 7,
     "metadata": {},
     "output_type": "execute_result"
    }
   ],
   "source": [
    "abstracts"
   ]
  },
  {
   "cell_type": "code",
   "execution_count": 8,
   "metadata": {
    "collapsed": true
   },
   "outputs": [],
   "source": [
    "g = rdflib.Graph()\n",
    "result = g.parse(\"http://www.w3.org/People/Berners-Lee/card\")\n"
   ]
  },
  {
   "cell_type": "code",
   "execution_count": 9,
   "metadata": {},
   "outputs": [
    {
     "name": "stdout",
     "output_type": "stream",
     "text": [
      "graph has 87 statements.\n"
     ]
    }
   ],
   "source": [
    "print(\"graph has %s statements.\" % len(g))\n",
    "# prints graph has 79 statements."
   ]
  },
  {
   "cell_type": "code",
   "execution_count": 10,
   "metadata": {
    "collapsed": true
   },
   "outputs": [],
   "source": [
    "for subj, pred, obj in g:\n",
    "    if (subj, pred, obj) not in g:\n",
    "        raise Exception(\"It better be!\")"
   ]
  },
  {
   "cell_type": "code",
   "execution_count": 12,
   "metadata": {},
   "outputs": [
    {
     "name": "stdout",
     "output_type": "stream",
     "text": [
      "http://www.w3.org/People/Berners-Lee/card\n"
     ]
    }
   ],
   "source": [
    "print(subj)"
   ]
  },
  {
   "cell_type": "code",
   "execution_count": 13,
   "metadata": {},
   "outputs": [
    {
     "name": "stdout",
     "output_type": "stream",
     "text": [
      "http://xmlns.com/foaf/0.1/maker\n"
     ]
    }
   ],
   "source": [
    "print(pred)"
   ]
  },
  {
   "cell_type": "code",
   "execution_count": 14,
   "metadata": {},
   "outputs": [
    {
     "name": "stdout",
     "output_type": "stream",
     "text": [
      "https://www.w3.org/People/Berners-Lee/card#i\n"
     ]
    }
   ],
   "source": [
    "print(obj)"
   ]
  },
  {
   "cell_type": "code",
   "execution_count": 11,
   "metadata": {
    "collapsed": true
   },
   "outputs": [],
   "source": [
    "s = g.serialize(format='n3')\n"
   ]
  },
  {
   "cell_type": "code",
   "execution_count": 15,
   "metadata": {},
   "outputs": [
    {
     "data": {
      "text/plain": [
       "b'@prefix : <http://xmlns.com/foaf/0.1/> .\\n@prefix cc: <http://creativecommons.org/ns#> .\\n@prefix cert: <http://www.w3.org/ns/auth/cert#> .\\n@prefix con: <http://www.w3.org/2000/10/swap/pim/contact#> .\\n@prefix dc: <http://purl.org/dc/elements/1.1/> .\\n@prefix dct: <http://purl.org/dc/terms/> .\\n@prefix default1: <http://www.w3.org/ns/auth/acl#> .\\n@prefix doap: <http://usefulinc.com/ns/doap#> .\\n@prefix geo: <http://www.w3.org/2003/01/geo/wgs84_pos#> .\\n@prefix ldp: <http://www.w3.org/ns/ldp#> .\\n@prefix owl: <http://www.w3.org/2002/07/owl#> .\\n@prefix rdf: <http://www.w3.org/1999/02/22-rdf-syntax-ns#> .\\n@prefix rdfs: <http://www.w3.org/2000/01/rdf-schema#> .\\n@prefix sioc: <http://rdfs.org/sioc/ns#> .\\n@prefix solid: <http://www.w3.org/ns/solid/terms#> .\\n@prefix space: <http://www.w3.org/ns/pim/space#> .\\n@prefix vcard: <http://www.w3.org/2006/vcard/ns#> .\\n@prefix xml: <http://www.w3.org/XML/1998/namespace> .\\n@prefix xsd: <http://www.w3.org/2001/XMLSchema#> .\\n\\n<http://dig.csail.mit.edu/2005/ajar/ajaw/data#Tabulator> doap:developer <https://www.w3.org/People/Berners-Lee/card#i> .\\n\\n<http://dig.csail.mit.edu/2007/01/camp/data#course> :maker <https://www.w3.org/People/Berners-Lee/card#i> .\\n\\n<http://dig.csail.mit.edu/data#DIG> :member <https://www.w3.org/People/Berners-Lee/card#i> .\\n\\n<http://wiki.ontoworld.org/index.php/_IRW2006> dc:title \"Identity, Reference and the Web workshop 2006\" ;\\n    con:participant <https://www.w3.org/People/Berners-Lee/card#i> .\\n\\n<http://www.ecs.soton.ac.uk/~dt2/dlstuff/www2006_data#panel-panelk01> rdfs:label \"The Next Wave of the Web (Plenary Panel)\" ;\\n    con:participant <https://www.w3.org/People/Berners-Lee/card#i> .\\n\\n<http://www.w3.org/2000/10/swap/data#Cwm> doap:developer <https://www.w3.org/People/Berners-Lee/card#i> .\\n\\n<http://www.w3.org/2011/Talks/0331-hyderabad-tbl/data#talk> dct:title \"Designing the Web for an Open Society\" ;\\n    :maker <https://www.w3.org/People/Berners-Lee/card#i> .\\n\\n<http://www.w3.org/DesignIssues/Overview.html> dc:title \"Design Issues for the World Wide Web\" ;\\n    :maker <https://www.w3.org/People/Berners-Lee/card#i> .\\n\\n<http://www.w3.org/People/Berners-Lee/card> a :PersonalProfileDocument ;\\n    cc:license <http://creativecommons.org/licenses/by-nc/3.0/> ;\\n    dc:title \"Tim Berners-Lee\\'s FOAF file\" ;\\n    :maker <https://www.w3.org/People/Berners-Lee/card#i> ;\\n    :primaryTopic <https://www.w3.org/People/Berners-Lee/card#i> .\\n\\n<http://www.w3.org/People/Berners-Lee/card#i> = <https://www.w3.org/People/Berners-Lee/card#i> ;\\n    cert:key [ a cert:RSAPublicKey ;\\n            cert:exponent 65537 ;\\n            cert:modulus \"ebe99c737bd3670239600547e5e2eb1d1497da39947b6576c3c44ffeca32cf0f2f7cbee3c47001278a90fc7fc5bcf292f741eb1fcd6bbe7f90650afb519cf13e81b2bffc6e02063ee5a55781d420b1dfaf61c15758480e66d47fb0dcb5fa7b9f7f1052e5ccbd01beee9553c3b6b51f4daf1fce991294cd09a3d1d636bc6c7656e4455d0aff06daec740ed0084aa6866fcae1359de61cc12dbe37c8fa42e977c6e727a8258bb9a3f265b27e3766fe0697f6aa0bcc81c3f026e387bd7bbc81580dc1853af2daa099186a9f59da526474ef6ec0a3d84cf400be3261b6b649dea1f78184862d34d685d2d587f09acc14cd8e578fdd2283387821296f0af39b8d8845\"^^xsd:hexBinary ] .\\n\\n<http://www.w3.org/data#W3C> :member <https://www.w3.org/People/Berners-Lee/card#i> .\\n\\n<http://dig.csail.mit.edu/breadcrumbs/blog/4> dc:title \"timbl\\'s blog on DIG\" ;\\n    rdfs:seeAlso <http://dig.csail.mit.edu/breadcrumbs/blog/feed/4> ;\\n    :maker <https://www.w3.org/People/Berners-Lee/card#i> .\\n\\n<https://timbl.com/timbl/Public/friends.ttl> a :PersonalProfileDocument ;\\n    cc:license <http://creativecommons.org/licenses/by-nc/3.0/> ;\\n    dc:title \"Tim Berners-Lee\\'s editable FOAF file\" ;\\n    :maker <https://www.w3.org/People/Berners-Lee/card#i> ;\\n    :primaryTopic <https://www.w3.org/People/Berners-Lee/card#i> .\\n\\n<https://www.w3.org/People/Berners-Lee/card#i> a con:Male,\\n        :Person ;\\n    rdfs:label \"Tim Berners-Lee\" ;\\n    sioc:avatar <http://www.w3.org/People/Berners-Lee/images/timbl-image-by-Coz-cropped.jpg> ;\\n    rdfs:seeAlso <https://timbl.com/timbl/Public/friends.ttl> ;\\n    con:assistant <https://www.w3.org/People/Berners-Lee/card#amy> ;\\n    con:homePage <http://www.w3.org/People/Berners-Lee/> ;\\n    con:office [ con:address [ con:city \"Cambridge\" ;\\n                    con:country \"USA\" ;\\n                    con:postalCode \"02139\" ;\\n                    con:street \"32 Vassar Street\" ;\\n                    con:street2 \"MIT CSAIL Room 32-G524\" ] ;\\n            con:phone <tel:+1-617-253-5702> ;\\n            geo:location [ geo:lat \"42.361860\" ;\\n                    geo:long \"-71.091840\" ] ] ;\\n    con:preferredURI \"https://www.w3.org/People/Berners-Lee/card#i\" ;\\n    con:publicHomePage <http://www.w3.org/People/Berners-Lee/> ;\\n    vcard:fn \"Tim Berners-Lee\" ;\\n    vcard:hasAddress [ a vcard:Work ;\\n            vcard:locality \"Cambridge\" ;\\n            vcard:postal-code \"02139\" ;\\n            vcard:region \"MA\" ;\\n            vcard:street-address \"MIT room 32-G-52432 Vassar Street\" ] ;\\n    vcard:hasTelephone [ a vcard:Work ;\\n            vcard:value <tel:+1-617-253-5702> ] ;\\n    default1:delegates <https://databox.me:3200/webid#me> ;\\n    ldp:inbox <https://timbl.com/timbl/Public/Inbox> ;\\n    space:preferencesFile <https://timbl.com/timbl/Data/preferences.n3> ;\\n    space:storage <https://timbl.databox.me/> ;\\n    solid:oidcIssuer <https://timbl.com> ;\\n    solid:publicTypeIndex <https://timbl.com/timbl/Public/PublicTypeIndex.ttl> ;\\n    :account <http://en.wikipedia.org/wiki/User:Timbl>,\\n        <http://twitter.com/timberners_lee>,\\n        <http://www.reddit.com/user/timbl/> ;\\n    :based_near [ geo:lat \"42.361860\" ;\\n            geo:long \"-71.091840\" ] ;\\n    :family_name \"Berners-Lee\" ;\\n    :givenname \"Timothy\" ;\\n    :homepage <https://www.w3.org/People/Berners-Lee/> ;\\n    :img <https://www.w3.org/Press/Stock/Berners-Lee/2001-europaeum-eighth.jpg> ;\\n    :mbox <mailto:timbl@w3.org> ;\\n    :mbox_sha1sum \"965c47c5a70db7407210cef6e4e6f5374a525c5c\" ;\\n    :name \"Timothy Berners-Lee\" ;\\n    :nick \"TimBL\",\\n        \"timbl\" ;\\n    :openid <https://www.w3.org/People/Berners-Lee/> ;\\n    :phone <tel:+1-(617)-253-5702> ;\\n    :title \"Sir\" ;\\n    :weblog <http://dig.csail.mit.edu/breadcrumbs/blog/4> ;\\n    :workplaceHomepage <https://www.w3.org/> .\\n\\n'"
      ]
     },
     "execution_count": 15,
     "metadata": {},
     "output_type": "execute_result"
    }
   ],
   "source": [
    "s"
   ]
  },
  {
   "cell_type": "markdown",
   "metadata": {},
   "source": [
    "### Exemplo mais detalhado"
   ]
  },
  {
   "cell_type": "code",
   "execution_count": 17,
   "metadata": {
    "collapsed": true
   },
   "outputs": [],
   "source": [
    "from rdflib import Graph, Literal, BNode, Namespace, RDF, URIRef\n",
    "from rdflib.namespace import DC, FOAF"
   ]
  },
  {
   "cell_type": "code",
   "execution_count": 18,
   "metadata": {
    "collapsed": true
   },
   "outputs": [],
   "source": [
    "g = Graph()\n",
    "\n",
    "# Create an identifier to use as the subject for Donna.\n",
    "donna = BNode()\n",
    "\n",
    "# Add triples using store's add method.\n",
    "g.add( (donna, RDF.type, FOAF.Person) )\n",
    "g.add( (donna, FOAF.nick, Literal(\"donna\", lang=\"foo\")) )\n",
    "g.add( (donna, FOAF.name, Literal(\"Donna Fales\")) )\n",
    "g.add( (donna, FOAF.mbox, URIRef(\"mailto:donna@example.org\")) )\n"
   ]
  },
  {
   "cell_type": "markdown",
   "metadata": {},
   "source": [
    "## interessante \n",
    "------------------------------------------------"
   ]
  },
  {
   "cell_type": "code",
   "execution_count": 19,
   "metadata": {},
   "outputs": [
    {
     "name": "stdout",
     "output_type": "stream",
     "text": [
      "--- printing raw triples ---\n",
      "(rdflib.term.BNode('Nf150b94061144f6b8a3a8dd7b893e10d'), rdflib.term.URIRef('http://xmlns.com/foaf/0.1/nick'), rdflib.term.Literal('donna', lang='foo'))\n",
      "(rdflib.term.BNode('Nf150b94061144f6b8a3a8dd7b893e10d'), rdflib.term.URIRef('http://www.w3.org/1999/02/22-rdf-syntax-ns#type'), rdflib.term.URIRef('http://xmlns.com/foaf/0.1/Person'))\n",
      "(rdflib.term.BNode('Nf150b94061144f6b8a3a8dd7b893e10d'), rdflib.term.URIRef('http://xmlns.com/foaf/0.1/name'), rdflib.term.Literal('Donna Fales'))\n",
      "(rdflib.term.BNode('Nf150b94061144f6b8a3a8dd7b893e10d'), rdflib.term.URIRef('http://xmlns.com/foaf/0.1/mbox'), rdflib.term.URIRef('mailto:donna@example.org'))\n"
     ]
    }
   ],
   "source": [
    "# Iterate over triples in store and print them out.\n",
    "print(\"--- printing raw triples ---\")\n",
    "for s, p, o in g:\n",
    "    print((s, p, o))"
   ]
  },
  {
   "cell_type": "code",
   "execution_count": 20,
   "metadata": {},
   "outputs": [
    {
     "name": "stdout",
     "output_type": "stream",
     "text": [
      "--- printing mboxes ---\n",
      "mailto:donna@example.org\n"
     ]
    }
   ],
   "source": [
    "# For each foaf:Person in the store print out its mbox property.\n",
    "print(\"--- printing mboxes ---\")\n",
    "for person in g.subjects(RDF.type, FOAF.Person):\n",
    "    for mbox in g.objects(person, FOAF.mbox):\n",
    "        print(mbox)\n"
   ]
  },
  {
   "cell_type": "code",
   "execution_count": 22,
   "metadata": {},
   "outputs": [
    {
     "name": "stdout",
     "output_type": "stream",
     "text": [
      "b'@prefix dc: <http://purl.org/dc/elements/1.1/> .\\n@prefix foaf: <http://xmlns.com/foaf/0.1/> .\\n@prefix rdf: <http://www.w3.org/1999/02/22-rdf-syntax-ns#> .\\n@prefix rdfs: <http://www.w3.org/2000/01/rdf-schema#> .\\n@prefix xml: <http://www.w3.org/XML/1998/namespace> .\\n@prefix xsd: <http://www.w3.org/2001/XMLSchema#> .\\n\\n[] a foaf:Person ;\\n    foaf:mbox <mailto:donna@example.org> ;\\n    foaf:name \"Donna Fales\" ;\\n    foaf:nick \"donna\"@foo .\\n\\n'\n"
     ]
    }
   ],
   "source": [
    "# Bind a few prefix, namespace pairs for more readable output\n",
    "g.bind(\"dc\", DC)\n",
    "g.bind(\"foaf\", FOAF)\n",
    "print( g.serialize(format='n3') )\n"
   ]
  },
  {
   "cell_type": "markdown",
   "metadata": {},
   "source": [
    "----------------------------------\n",
    "Aparentemente é mais simples fazer análises em arquivos .nt \n",
    "\n",
    "**  The simplest format is ntriples, a line-based format. Create the file demo.nt in the current directory with these two lines: **\n",
    "\n",
    "------------------------"
   ]
  },
  {
   "cell_type": "code",
   "execution_count": 27,
   "metadata": {
    "collapsed": true
   },
   "outputs": [],
   "source": [
    "from rdflib import Graph\n"
   ]
  },
  {
   "cell_type": "code",
   "execution_count": 28,
   "metadata": {},
   "outputs": [
    {
     "data": {
      "text/plain": [
       "2"
      ]
     },
     "execution_count": 28,
     "metadata": {},
     "output_type": "execute_result"
    }
   ],
   "source": [
    "g = Graph()\n",
    "g.parse(\"demo.nt\", format=\"nt\")\n",
    "\n",
    "len(g) # prints 2\n",
    "\n",
    "\n"
   ]
  },
  {
   "cell_type": "code",
   "execution_count": 32,
   "metadata": {},
   "outputs": [
    {
     "name": "stdout",
     "output_type": "stream",
     "text": [
      "<http://bigasterisk.com/foaf.rdf#drewp> <http://www.w3.org/1999/02/22-rdf-syntax-ns#type> <http://xmlns.com/foaf/0.1/Person> .\r\n",
      "<http://bigasterisk.com/foaf.rdf#drewp> <http://example.com/says> \"Hello world\" .\r\n"
     ]
    }
   ],
   "source": [
    " cat demo.nt"
   ]
  },
  {
   "cell_type": "code",
   "execution_count": 29,
   "metadata": {},
   "outputs": [
    {
     "name": "stdout",
     "output_type": "stream",
     "text": [
      "(rdflib.term.URIRef('http://bigasterisk.com/foaf.rdf#drewp'),\n",
      " rdflib.term.URIRef('http://www.w3.org/1999/02/22-rdf-syntax-ns#type'),\n",
      " rdflib.term.URIRef('http://xmlns.com/foaf/0.1/Person'))\n",
      "(rdflib.term.URIRef('http://bigasterisk.com/foaf.rdf#drewp'),\n",
      " rdflib.term.URIRef('http://example.com/says'),\n",
      " rdflib.term.Literal('Hello world'))\n"
     ]
    }
   ],
   "source": [
    "import pprint\n",
    "for stmt in g:\n",
    "    pprint.pprint(stmt)\n"
   ]
  },
  {
   "cell_type": "code",
   "execution_count": 34,
   "metadata": {},
   "outputs": [
    {
     "data": {
      "text/plain": [
       "(rdflib.term.URIRef('http://bigasterisk.com/foaf.rdf#drewp'),\n",
       " rdflib.term.URIRef('http://example.com/says'),\n",
       " rdflib.term.Literal('Hello world'))"
      ]
     },
     "execution_count": 34,
     "metadata": {},
     "output_type": "execute_result"
    }
   ],
   "source": [
    "# prints :\n",
    "(rdflib.term.URIRef('http://bigasterisk.com/foaf.rdf#drewp'),\n",
    " rdflib.term.URIRef('http://example.com/says'),\n",
    " rdflib.term.Literal(u'Hello world'))\n"
   ]
  },
  {
   "cell_type": "code",
   "execution_count": 35,
   "metadata": {},
   "outputs": [
    {
     "data": {
      "text/plain": [
       "(rdflib.term.URIRef('http://bigasterisk.com/foaf.rdf#drewp'),\n",
       " rdflib.term.URIRef('http://www.w3.org/1999/02/22-rdf-syntax-ns#type'),\n",
       " rdflib.term.URIRef('http://xmlns.com/foaf/0.1/Person'))"
      ]
     },
     "execution_count": 35,
     "metadata": {},
     "output_type": "execute_result"
    }
   ],
   "source": [
    "(rdflib.term.URIRef('http://bigasterisk.com/foaf.rdf#drewp'),\n",
    " rdflib.term.URIRef('http://www.w3.org/1999/02/22-rdf-syntax-ns#type'),\n",
    " rdflib.term.URIRef('http://xmlns.com/foaf/0.1/Person'))"
   ]
  },
  {
   "cell_type": "markdown",
   "metadata": {},
   "source": [
    "The final lines show how RDFLib represents the two statements in the file. The statements themselves are just length-3 tuples; and the subjects, predicates, and objects are all rdflib types."
   ]
  },
  {
   "cell_type": "code",
   "execution_count": 36,
   "metadata": {},
   "outputs": [
    {
     "data": {
      "text/plain": [
       "63"
      ]
     },
     "execution_count": 36,
     "metadata": {},
     "output_type": "execute_result"
    }
   ],
   "source": [
    "g.parse(\"http://bigasterisk.com/foaf.rdf\")\n",
    "len(g)\n",
    "# prints 42"
   ]
  },
  {
   "cell_type": "code",
   "execution_count": 40,
   "metadata": {},
   "outputs": [
    {
     "data": {
      "text/plain": [
       "True"
      ]
     },
     "execution_count": 40,
     "metadata": {},
     "output_type": "execute_result"
    }
   ],
   "source": [
    "import webbrowser\n",
    "\n",
    "# generate an URL\n",
    "url = 'http://' + 'bigasterisk.com/foaf.rdf'\n",
    "webbrowser.open(url)\n"
   ]
  },
  {
   "cell_type": "markdown",
   "metadata": {},
   "source": [
    "---------------------\n",
    "\n",
    "\n",
    "---------------------\n",
    "RDF is a graph where the nodes are URI references, Blank Nodes or Literals, in RDFLib represented by the classes URIRef, BNode, and Literal. URIRefs and BNodes can both be thought of as resources, such a person, a company, a web-site, etc. A BNode is a node where the exact URI is not known. URIRefs are also used to represent the properties/predicates in the RDF graph. Literals represent attribute values, such as a name, a date, a number, etc.\n",
    "\n",
    "Nodes can be created by the constructors of the node classes:"
   ]
  },
  {
   "cell_type": "code",
   "execution_count": 41,
   "metadata": {
    "collapsed": true
   },
   "outputs": [],
   "source": [
    "from rdflib import URIRef, BNode, Literal\n"
   ]
  },
  {
   "cell_type": "code",
   "execution_count": 45,
   "metadata": {
    "collapsed": true
   },
   "outputs": [],
   "source": [
    "bob = URIRef(\"http://example.org/people/Bob\")\n",
    "linda = BNode() # a GUID is generated\n",
    "name = Literal('Bob') # passing a string\n",
    "age = Literal(24) # passing a python int\n",
    "height = Literal(76.5) # passing a python float"
   ]
  },
  {
   "cell_type": "markdown",
   "metadata": {},
   "source": [
    "This is very useful for schemas where all properties and classes have the same URI prefix, RDFLib pre-defines Namespaces for the most common RDF schemas:"
   ]
  },
  {
   "cell_type": "code",
   "execution_count": 46,
   "metadata": {},
   "outputs": [],
   "source": [
    "from rdflib.namespace import RDF, FOAF\n"
   ]
  },
  {
   "cell_type": "code",
   "execution_count": 47,
   "metadata": {},
   "outputs": [
    {
     "data": {
      "text/plain": [
       "rdflib.term.URIRef('http://www.w3.org/1999/02/22-rdf-syntax-ns#type')"
      ]
     },
     "execution_count": 47,
     "metadata": {},
     "output_type": "execute_result"
    }
   ],
   "source": [
    "RDF.type\n",
    "# = rdflib.term.URIRef(u'http://www.w3.org/1999/02/22-rdf-syntax-ns#type')"
   ]
  },
  {
   "cell_type": "code",
   "execution_count": 48,
   "metadata": {},
   "outputs": [
    {
     "data": {
      "text/plain": [
       "rdflib.term.URIRef('http://xmlns.com/foaf/0.1/knows')"
      ]
     },
     "execution_count": 48,
     "metadata": {},
     "output_type": "execute_result"
    }
   ],
   "source": [
    "FOAF.knows\n",
    "# = rdflib.term.URIRef(u'http://xmlns.com/foaf/0.1/knows')"
   ]
  },
  {
   "cell_type": "code",
   "execution_count": 49,
   "metadata": {
    "collapsed": true
   },
   "outputs": [],
   "source": [
    "from rdflib import Graph\n",
    "g = Graph()\n"
   ]
  },
  {
   "cell_type": "code",
   "execution_count": 50,
   "metadata": {
    "collapsed": true
   },
   "outputs": [],
   "source": [
    "g.add( (bob, RDF.type, FOAF.Person) )\n",
    "g.add( (bob, FOAF.name, name) )\n",
    "g.add( (bob, FOAF.knows, linda) )\n",
    "g.add( (linda, RDF.type, FOAF.Person) )\n",
    "g.add( (linda, FOAF.name, Literal('Linda') ) )"
   ]
  },
  {
   "cell_type": "code",
   "execution_count": 51,
   "metadata": {},
   "outputs": [
    {
     "name": "stdout",
     "output_type": "stream",
     "text": [
      "b'@prefix ns1: <http://xmlns.com/foaf/0.1/> .\\n@prefix rdf: <http://www.w3.org/1999/02/22-rdf-syntax-ns#> .\\n@prefix rdfs: <http://www.w3.org/2000/01/rdf-schema#> .\\n@prefix xml: <http://www.w3.org/XML/1998/namespace> .\\n@prefix xsd: <http://www.w3.org/2001/XMLSchema#> .\\n\\n<http://example.org/people/Bob> a ns1:Person ;\\n    ns1:knows [ a ns1:Person ;\\n            ns1:name \"Linda\" ] ;\\n    ns1:name \"Bob\" .\\n\\n'\n"
     ]
    }
   ],
   "source": [
    "print(g.serialize(format='turtle'))\n"
   ]
  },
  {
   "cell_type": "code",
   "execution_count": 53,
   "metadata": {},
   "outputs": [
    {
     "name": "stdout",
     "output_type": "stream",
     "text": [
      "Bob is  42\n"
     ]
    }
   ],
   "source": [
    "g.add( ( bob, FOAF.age, Literal(42) ) )\n",
    "print (\"Bob is \", g.value( bob, FOAF.age ))\n",
    "# prints: Bob is 42"
   ]
  },
  {
   "cell_type": "code",
   "execution_count": 54,
   "metadata": {},
   "outputs": [
    {
     "name": "stdout",
     "output_type": "stream",
     "text": [
      "Bob is now  43\n"
     ]
    }
   ],
   "source": [
    "g.set( ( bob, FOAF.age, Literal(43) ) ) # replaces 42 set above\n",
    "print(\"Bob is now \", g.value( bob, FOAF.age ))"
   ]
  },
  {
   "cell_type": "code",
   "execution_count": 55,
   "metadata": {
    "collapsed": true
   },
   "outputs": [],
   "source": [
    "#REMOVER UM VALOR\n",
    "g.remove( (bob, None, None) ) # remove all triples about bob\n"
   ]
  },
  {
   "cell_type": "code",
   "execution_count": 58,
   "metadata": {},
   "outputs": [
    {
     "ename": "ParserError",
     "evalue": "http://danbri.livejournal.com/data/foaf:38:6: Repeat node-elements inside property elements: http://blogs.yandex.ru/schema/foaf/Comments",
     "output_type": "error",
     "traceback": [
      "\u001b[0;31m---------------------------------------------------------------------------\u001b[0m",
      "\u001b[0;31mParserError\u001b[0m                               Traceback (most recent call last)",
      "\u001b[0;32m<ipython-input-58-17bf6b24772f>\u001b[0m in \u001b[0;36m<module>\u001b[0;34m()\u001b[0m\n\u001b[1;32m      1\u001b[0m \u001b[0;32mfrom\u001b[0m \u001b[0mrdflib\u001b[0m\u001b[0;34m.\u001b[0m\u001b[0mnamespace\u001b[0m \u001b[0;32mimport\u001b[0m \u001b[0mFOAF\u001b[0m\u001b[0;34m\u001b[0m\u001b[0m\n\u001b[1;32m      2\u001b[0m \u001b[0mgr\u001b[0m \u001b[0;34m=\u001b[0m \u001b[0mGraph\u001b[0m\u001b[0;34m(\u001b[0m\u001b[0;34m)\u001b[0m\u001b[0;34m\u001b[0m\u001b[0m\n\u001b[0;32m----> 3\u001b[0;31m \u001b[0mgr\u001b[0m\u001b[0;34m.\u001b[0m\u001b[0mparse\u001b[0m\u001b[0;34m(\u001b[0m\u001b[0;34m\"http://danbri.livejournal.com/data/foaf\"\u001b[0m\u001b[0;34m)\u001b[0m\u001b[0;34m\u001b[0m\u001b[0m\n\u001b[0m\u001b[1;32m      4\u001b[0m \u001b[0;32mfor\u001b[0m \u001b[0ms\u001b[0m\u001b[0;34m,\u001b[0m\u001b[0m_\u001b[0m\u001b[0;34m,\u001b[0m\u001b[0mn\u001b[0m \u001b[0;32min\u001b[0m \u001b[0mgr\u001b[0m\u001b[0;34m.\u001b[0m\u001b[0mtriples\u001b[0m\u001b[0;34m(\u001b[0m\u001b[0;34m(\u001b[0m\u001b[0;32mNone\u001b[0m\u001b[0;34m,\u001b[0m \u001b[0mFOAF\u001b[0m\u001b[0;34m[\u001b[0m\u001b[0;34m'member_name'\u001b[0m\u001b[0;34m]\u001b[0m\u001b[0;34m,\u001b[0m \u001b[0;32mNone\u001b[0m\u001b[0;34m)\u001b[0m\u001b[0;34m)\u001b[0m\u001b[0;34m:\u001b[0m\u001b[0;34m\u001b[0m\u001b[0m\n\u001b[1;32m      5\u001b[0m     \u001b[0mgr\u001b[0m\u001b[0;34m.\u001b[0m\u001b[0madd\u001b[0m\u001b[0;34m(\u001b[0m\u001b[0;34m(\u001b[0m\u001b[0ms\u001b[0m\u001b[0;34m,\u001b[0m \u001b[0mFOAF\u001b[0m\u001b[0;34m[\u001b[0m\u001b[0;34m'name'\u001b[0m\u001b[0;34m]\u001b[0m\u001b[0;34m,\u001b[0m \u001b[0mn\u001b[0m\u001b[0;34m)\u001b[0m\u001b[0;34m)\u001b[0m\u001b[0;34m\u001b[0m\u001b[0m\n",
      "\u001b[0;32m/usr/local/lib/python3.5/dist-packages/rdflib/graph.py\u001b[0m in \u001b[0;36mparse\u001b[0;34m(self, source, publicID, format, location, file, data, **args)\u001b[0m\n\u001b[1;32m   1041\u001b[0m         \u001b[0mparser\u001b[0m \u001b[0;34m=\u001b[0m \u001b[0mplugin\u001b[0m\u001b[0;34m.\u001b[0m\u001b[0mget\u001b[0m\u001b[0;34m(\u001b[0m\u001b[0mformat\u001b[0m\u001b[0;34m,\u001b[0m \u001b[0mParser\u001b[0m\u001b[0;34m)\u001b[0m\u001b[0;34m(\u001b[0m\u001b[0;34m)\u001b[0m\u001b[0;34m\u001b[0m\u001b[0m\n\u001b[1;32m   1042\u001b[0m         \u001b[0;32mtry\u001b[0m\u001b[0;34m:\u001b[0m\u001b[0;34m\u001b[0m\u001b[0m\n\u001b[0;32m-> 1043\u001b[0;31m             \u001b[0mparser\u001b[0m\u001b[0;34m.\u001b[0m\u001b[0mparse\u001b[0m\u001b[0;34m(\u001b[0m\u001b[0msource\u001b[0m\u001b[0;34m,\u001b[0m \u001b[0mself\u001b[0m\u001b[0;34m,\u001b[0m \u001b[0;34m**\u001b[0m\u001b[0margs\u001b[0m\u001b[0;34m)\u001b[0m\u001b[0;34m\u001b[0m\u001b[0m\n\u001b[0m\u001b[1;32m   1044\u001b[0m         \u001b[0;32mfinally\u001b[0m\u001b[0;34m:\u001b[0m\u001b[0;34m\u001b[0m\u001b[0m\n\u001b[1;32m   1045\u001b[0m             \u001b[0;32mif\u001b[0m \u001b[0msource\u001b[0m\u001b[0;34m.\u001b[0m\u001b[0mauto_close\u001b[0m\u001b[0;34m:\u001b[0m\u001b[0;34m\u001b[0m\u001b[0m\n",
      "\u001b[0;32m/usr/local/lib/python3.5/dist-packages/rdflib/plugins/parsers/rdfxml.py\u001b[0m in \u001b[0;36mparse\u001b[0;34m(self, source, sink, **args)\u001b[0m\n\u001b[1;32m    576\u001b[0m         \u001b[0;31m# content_handler.reset()\u001b[0m\u001b[0;34m\u001b[0m\u001b[0;34m\u001b[0m\u001b[0m\n\u001b[1;32m    577\u001b[0m         \u001b[0;31m# self._parser.reset()\u001b[0m\u001b[0;34m\u001b[0m\u001b[0;34m\u001b[0m\u001b[0m\n\u001b[0;32m--> 578\u001b[0;31m         \u001b[0mself\u001b[0m\u001b[0;34m.\u001b[0m\u001b[0m_parser\u001b[0m\u001b[0;34m.\u001b[0m\u001b[0mparse\u001b[0m\u001b[0;34m(\u001b[0m\u001b[0msource\u001b[0m\u001b[0;34m)\u001b[0m\u001b[0;34m\u001b[0m\u001b[0m\n\u001b[0m",
      "\u001b[0;32m/usr/lib/python3.5/xml/sax/expatreader.py\u001b[0m in \u001b[0;36mparse\u001b[0;34m(self, source)\u001b[0m\n\u001b[1;32m    108\u001b[0m         \u001b[0mself\u001b[0m\u001b[0;34m.\u001b[0m\u001b[0mreset\u001b[0m\u001b[0;34m(\u001b[0m\u001b[0;34m)\u001b[0m\u001b[0;34m\u001b[0m\u001b[0m\n\u001b[1;32m    109\u001b[0m         \u001b[0mself\u001b[0m\u001b[0;34m.\u001b[0m\u001b[0m_cont_handler\u001b[0m\u001b[0;34m.\u001b[0m\u001b[0msetDocumentLocator\u001b[0m\u001b[0;34m(\u001b[0m\u001b[0mExpatLocator\u001b[0m\u001b[0;34m(\u001b[0m\u001b[0mself\u001b[0m\u001b[0;34m)\u001b[0m\u001b[0;34m)\u001b[0m\u001b[0;34m\u001b[0m\u001b[0m\n\u001b[0;32m--> 110\u001b[0;31m         \u001b[0mxmlreader\u001b[0m\u001b[0;34m.\u001b[0m\u001b[0mIncrementalParser\u001b[0m\u001b[0;34m.\u001b[0m\u001b[0mparse\u001b[0m\u001b[0;34m(\u001b[0m\u001b[0mself\u001b[0m\u001b[0;34m,\u001b[0m \u001b[0msource\u001b[0m\u001b[0;34m)\u001b[0m\u001b[0;34m\u001b[0m\u001b[0m\n\u001b[0m\u001b[1;32m    111\u001b[0m \u001b[0;34m\u001b[0m\u001b[0m\n\u001b[1;32m    112\u001b[0m     \u001b[0;32mdef\u001b[0m \u001b[0mprepareParser\u001b[0m\u001b[0;34m(\u001b[0m\u001b[0mself\u001b[0m\u001b[0;34m,\u001b[0m \u001b[0msource\u001b[0m\u001b[0;34m)\u001b[0m\u001b[0;34m:\u001b[0m\u001b[0;34m\u001b[0m\u001b[0m\n",
      "\u001b[0;32m/usr/lib/python3.5/xml/sax/xmlreader.py\u001b[0m in \u001b[0;36mparse\u001b[0;34m(self, source)\u001b[0m\n\u001b[1;32m    123\u001b[0m         \u001b[0mbuffer\u001b[0m \u001b[0;34m=\u001b[0m \u001b[0mfile\u001b[0m\u001b[0;34m.\u001b[0m\u001b[0mread\u001b[0m\u001b[0;34m(\u001b[0m\u001b[0mself\u001b[0m\u001b[0;34m.\u001b[0m\u001b[0m_bufsize\u001b[0m\u001b[0;34m)\u001b[0m\u001b[0;34m\u001b[0m\u001b[0m\n\u001b[1;32m    124\u001b[0m         \u001b[0;32mwhile\u001b[0m \u001b[0mbuffer\u001b[0m\u001b[0;34m:\u001b[0m\u001b[0;34m\u001b[0m\u001b[0m\n\u001b[0;32m--> 125\u001b[0;31m             \u001b[0mself\u001b[0m\u001b[0;34m.\u001b[0m\u001b[0mfeed\u001b[0m\u001b[0;34m(\u001b[0m\u001b[0mbuffer\u001b[0m\u001b[0;34m)\u001b[0m\u001b[0;34m\u001b[0m\u001b[0m\n\u001b[0m\u001b[1;32m    126\u001b[0m             \u001b[0mbuffer\u001b[0m \u001b[0;34m=\u001b[0m \u001b[0mfile\u001b[0m\u001b[0;34m.\u001b[0m\u001b[0mread\u001b[0m\u001b[0;34m(\u001b[0m\u001b[0mself\u001b[0m\u001b[0;34m.\u001b[0m\u001b[0m_bufsize\u001b[0m\u001b[0;34m)\u001b[0m\u001b[0;34m\u001b[0m\u001b[0m\n\u001b[1;32m    127\u001b[0m         \u001b[0mself\u001b[0m\u001b[0;34m.\u001b[0m\u001b[0mclose\u001b[0m\u001b[0;34m(\u001b[0m\u001b[0;34m)\u001b[0m\u001b[0;34m\u001b[0m\u001b[0m\n",
      "\u001b[0;32m/usr/lib/python3.5/xml/sax/expatreader.py\u001b[0m in \u001b[0;36mfeed\u001b[0;34m(self, data, isFinal)\u001b[0m\n\u001b[1;32m    208\u001b[0m             \u001b[0;31m# document. When feeding chunks, they are not normally final -\u001b[0m\u001b[0;34m\u001b[0m\u001b[0;34m\u001b[0m\u001b[0m\n\u001b[1;32m    209\u001b[0m             \u001b[0;31m# except when invoked from close.\u001b[0m\u001b[0;34m\u001b[0m\u001b[0;34m\u001b[0m\u001b[0m\n\u001b[0;32m--> 210\u001b[0;31m             \u001b[0mself\u001b[0m\u001b[0;34m.\u001b[0m\u001b[0m_parser\u001b[0m\u001b[0;34m.\u001b[0m\u001b[0mParse\u001b[0m\u001b[0;34m(\u001b[0m\u001b[0mdata\u001b[0m\u001b[0;34m,\u001b[0m \u001b[0misFinal\u001b[0m\u001b[0;34m)\u001b[0m\u001b[0;34m\u001b[0m\u001b[0m\n\u001b[0m\u001b[1;32m    211\u001b[0m         \u001b[0;32mexcept\u001b[0m \u001b[0mexpat\u001b[0m\u001b[0;34m.\u001b[0m\u001b[0merror\u001b[0m \u001b[0;32mas\u001b[0m \u001b[0me\u001b[0m\u001b[0;34m:\u001b[0m\u001b[0;34m\u001b[0m\u001b[0m\n\u001b[1;32m    212\u001b[0m             \u001b[0mexc\u001b[0m \u001b[0;34m=\u001b[0m \u001b[0mSAXParseException\u001b[0m\u001b[0;34m(\u001b[0m\u001b[0mexpat\u001b[0m\u001b[0;34m.\u001b[0m\u001b[0mErrorString\u001b[0m\u001b[0;34m(\u001b[0m\u001b[0me\u001b[0m\u001b[0;34m.\u001b[0m\u001b[0mcode\u001b[0m\u001b[0;34m)\u001b[0m\u001b[0;34m,\u001b[0m \u001b[0me\u001b[0m\u001b[0;34m,\u001b[0m \u001b[0mself\u001b[0m\u001b[0;34m)\u001b[0m\u001b[0;34m\u001b[0m\u001b[0m\n",
      "\u001b[0;32m../Modules/pyexpat.c\u001b[0m in \u001b[0;36mEndElement\u001b[0;34m()\u001b[0m\n",
      "\u001b[0;32m/usr/lib/python3.5/xml/sax/expatreader.py\u001b[0m in \u001b[0;36mend_element_ns\u001b[0;34m(self, name)\u001b[0m\n\u001b[1;32m    368\u001b[0m             \u001b[0mpair\u001b[0m \u001b[0;34m=\u001b[0m \u001b[0mtuple\u001b[0m\u001b[0;34m(\u001b[0m\u001b[0mpair\u001b[0m\u001b[0;34m)\u001b[0m\u001b[0;34m\u001b[0m\u001b[0m\n\u001b[1;32m    369\u001b[0m \u001b[0;34m\u001b[0m\u001b[0m\n\u001b[0;32m--> 370\u001b[0;31m         \u001b[0mself\u001b[0m\u001b[0;34m.\u001b[0m\u001b[0m_cont_handler\u001b[0m\u001b[0;34m.\u001b[0m\u001b[0mendElementNS\u001b[0m\u001b[0;34m(\u001b[0m\u001b[0mpair\u001b[0m\u001b[0;34m,\u001b[0m \u001b[0;32mNone\u001b[0m\u001b[0;34m)\u001b[0m\u001b[0;34m\u001b[0m\u001b[0m\n\u001b[0m\u001b[1;32m    371\u001b[0m \u001b[0;34m\u001b[0m\u001b[0m\n\u001b[1;32m    372\u001b[0m     \u001b[0;31m# this is not used (call directly to ContentHandler)\u001b[0m\u001b[0;34m\u001b[0m\u001b[0;34m\u001b[0m\u001b[0m\n",
      "\u001b[0;32m/usr/local/lib/python3.5/dist-packages/rdflib/plugins/parsers/rdfxml.py\u001b[0m in \u001b[0;36mendElementNS\u001b[0;34m(self, name, qname)\u001b[0m\n\u001b[1;32m    158\u001b[0m \u001b[0;34m\u001b[0m\u001b[0m\n\u001b[1;32m    159\u001b[0m     \u001b[0;32mdef\u001b[0m \u001b[0mendElementNS\u001b[0m\u001b[0;34m(\u001b[0m\u001b[0mself\u001b[0m\u001b[0;34m,\u001b[0m \u001b[0mname\u001b[0m\u001b[0;34m,\u001b[0m \u001b[0mqname\u001b[0m\u001b[0;34m)\u001b[0m\u001b[0;34m:\u001b[0m\u001b[0;34m\u001b[0m\u001b[0m\n\u001b[0;32m--> 160\u001b[0;31m         \u001b[0mself\u001b[0m\u001b[0;34m.\u001b[0m\u001b[0mcurrent\u001b[0m\u001b[0;34m.\u001b[0m\u001b[0mend\u001b[0m\u001b[0;34m(\u001b[0m\u001b[0mname\u001b[0m\u001b[0;34m,\u001b[0m \u001b[0mqname\u001b[0m\u001b[0;34m)\u001b[0m\u001b[0;34m\u001b[0m\u001b[0m\n\u001b[0m\u001b[1;32m    161\u001b[0m         \u001b[0mself\u001b[0m\u001b[0;34m.\u001b[0m\u001b[0mstack\u001b[0m\u001b[0;34m.\u001b[0m\u001b[0mpop\u001b[0m\u001b[0;34m(\u001b[0m\u001b[0;34m)\u001b[0m\u001b[0;34m\u001b[0m\u001b[0m\n\u001b[1;32m    162\u001b[0m \u001b[0;34m\u001b[0m\u001b[0m\n",
      "\u001b[0;32m/usr/local/lib/python3.5/dist-packages/rdflib/plugins/parsers/rdfxml.py\u001b[0m in \u001b[0;36mnode_element_end\u001b[0;34m(self, name, qname)\u001b[0m\n\u001b[1;32m    330\u001b[0m         \u001b[0;32mif\u001b[0m \u001b[0mself\u001b[0m\u001b[0;34m.\u001b[0m\u001b[0mparent\u001b[0m\u001b[0;34m.\u001b[0m\u001b[0mobject\u001b[0m \u001b[0;32mand\u001b[0m \u001b[0mself\u001b[0m\u001b[0;34m.\u001b[0m\u001b[0mcurrent\u001b[0m \u001b[0;34m!=\u001b[0m \u001b[0mself\u001b[0m\u001b[0;34m.\u001b[0m\u001b[0mstack\u001b[0m\u001b[0;34m[\u001b[0m\u001b[0;36m2\u001b[0m\u001b[0;34m]\u001b[0m\u001b[0;34m:\u001b[0m\u001b[0;34m\u001b[0m\u001b[0m\n\u001b[1;32m    331\u001b[0m \u001b[0;34m\u001b[0m\u001b[0m\n\u001b[0;32m--> 332\u001b[0;31m             \u001b[0mself\u001b[0m\u001b[0;34m.\u001b[0m\u001b[0merror\u001b[0m\u001b[0;34m(\u001b[0m\u001b[0;34m\"Repeat node-elements inside property elements: %s\"\u001b[0m\u001b[0;34m%\u001b[0m\u001b[0;34m\"\"\u001b[0m\u001b[0;34m.\u001b[0m\u001b[0mjoin\u001b[0m\u001b[0;34m(\u001b[0m\u001b[0mname\u001b[0m\u001b[0;34m)\u001b[0m\u001b[0;34m)\u001b[0m\u001b[0;34m\u001b[0m\u001b[0m\n\u001b[0m\u001b[1;32m    333\u001b[0m \u001b[0;34m\u001b[0m\u001b[0m\n\u001b[1;32m    334\u001b[0m         \u001b[0mself\u001b[0m\u001b[0;34m.\u001b[0m\u001b[0mparent\u001b[0m\u001b[0;34m.\u001b[0m\u001b[0mobject\u001b[0m \u001b[0;34m=\u001b[0m \u001b[0mself\u001b[0m\u001b[0;34m.\u001b[0m\u001b[0mcurrent\u001b[0m\u001b[0;34m.\u001b[0m\u001b[0msubject\u001b[0m\u001b[0;34m\u001b[0m\u001b[0m\n",
      "\u001b[0;32m/usr/local/lib/python3.5/dist-packages/rdflib/plugins/parsers/rdfxml.py\u001b[0m in \u001b[0;36merror\u001b[0;34m(self, message)\u001b[0m\n\u001b[1;32m    184\u001b[0m                                \u001b[0mlocator\u001b[0m\u001b[0;34m.\u001b[0m\u001b[0mgetLineNumber\u001b[0m\u001b[0;34m(\u001b[0m\u001b[0;34m)\u001b[0m\u001b[0;34m,\u001b[0m\u001b[0;34m\u001b[0m\u001b[0m\n\u001b[1;32m    185\u001b[0m                                locator.getColumnNumber())\n\u001b[0;32m--> 186\u001b[0;31m         \u001b[0;32mraise\u001b[0m \u001b[0mParserError\u001b[0m\u001b[0;34m(\u001b[0m\u001b[0minfo\u001b[0m \u001b[0;34m+\u001b[0m \u001b[0mmessage\u001b[0m\u001b[0;34m)\u001b[0m\u001b[0;34m\u001b[0m\u001b[0m\n\u001b[0m\u001b[1;32m    187\u001b[0m \u001b[0;34m\u001b[0m\u001b[0m\n\u001b[1;32m    188\u001b[0m     \u001b[0;32mdef\u001b[0m \u001b[0mget_current\u001b[0m\u001b[0;34m(\u001b[0m\u001b[0mself\u001b[0m\u001b[0;34m)\u001b[0m\u001b[0;34m:\u001b[0m\u001b[0;34m\u001b[0m\u001b[0m\n",
      "\u001b[0;31mParserError\u001b[0m: http://danbri.livejournal.com/data/foaf:38:6: Repeat node-elements inside property elements: http://blogs.yandex.ru/schema/foaf/Comments"
     ]
    }
   ],
   "source": [
    "from rdflib.namespace import FOAF\n",
    "gr = Graph()\n",
    "gr.parse(\"http://danbri.livejournal.com/data/foaf\")\n",
    "for s,_,n in gr.triples((None, FOAF['member_name'], None)):\n",
    "    gr.add((s, FOAF['name'], n))"
   ]
  },
  {
   "cell_type": "code",
   "execution_count": null,
   "metadata": {
    "collapsed": true
   },
   "outputs": [],
   "source": []
  }
 ],
 "metadata": {
  "kernelspec": {
   "display_name": "Python 3",
   "language": "python",
   "name": "python3"
  },
  "language_info": {
   "codemirror_mode": {
    "name": "ipython",
    "version": 3
   },
   "file_extension": ".py",
   "mimetype": "text/x-python",
   "name": "python",
   "nbconvert_exporter": "python",
   "pygments_lexer": "ipython3",
   "version": "3.5.2"
  }
 },
 "nbformat": 4,
 "nbformat_minor": 2
}
