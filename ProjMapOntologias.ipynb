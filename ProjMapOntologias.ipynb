{
 "cells": [
  {
   "cell_type": "code",
   "execution_count": 1,
   "metadata": {},
   "outputs": [
    {
     "name": "stderr",
     "output_type": "stream",
     "text": [
      "* Owlready * Creating new ontology owl <http://www.w3.org/2002/07/owl>.\n",
      "* Owlready * Creating new ontology 22-rdf-syntax-ns <http://www.w3.org/1999/02/22-rdf-syntax-ns>.\n",
      "* Owlready * Creating new ontology rdf-schema <http://www.w3.org/2000/01/rdf-schema>.\n",
      "* Owlready * Creating new ontology XMLSchema <http://www.w3.org/2001/XMLSchema>.\n",
      "* Owlready * Creating new ontology anonymous <http://anonymous>.\n",
      "* Owlready * Creating new ontology owlready_ontology <http://www.lesfleursdunormal.fr/static/_downloads/owlready_ontology.owl>.\n",
      "* Owlready *     ...loading ontology owlready_ontology from /usr/local/lib/python3.5/dist-packages/owlready/owlready_ontology.owl...\n"
     ]
    }
   ],
   "source": [
    "from owlready import *\n",
    "\n"
   ]
  },
  {
   "cell_type": "code",
   "execution_count": 2,
   "metadata": {},
   "outputs": [
    {
     "name": "stderr",
     "output_type": "stream",
     "text": [
      "* Owlready * Creating new ontology iswc <http://dpcommerce.pe.hu/iswc.owl>.\n"
     ]
    }
   ],
   "source": [
    "onto = get_ontology(\"http://dpcommerce.pe.hu/iswc.owl\")"
   ]
  },
  {
   "cell_type": "code",
   "execution_count": 3,
   "metadata": {},
   "outputs": [
    {
     "name": "stderr",
     "output_type": "stream",
     "text": [
      "* Owlready *     ...loading ontology iswc from http://dpcommerce.pe.hu/iswc.owl...\n",
      "(unknown file):147: OwlReadyUndefinedIRIWarning: Undefined IRI 'http://dpcommerce.pe.hu/iswc.owl#conference' referenced, OwlReady assumes it is an individual.\n",
      "(unknown file):152: OwlReadyUndefinedIRIWarning: Undefined IRI 'http://dpcommerce.pe.hu/iswc.owl#has_affiliation' referenced, OwlReady assumes it is an individual.\n",
      "(unknown file):162: OwlReadyUndefinedIRIWarning: Undefined IRI 'http://dpcommerce.pe.hu/iswc.owl#research_interests' referenced, OwlReady assumes it is an individual.\n",
      "(unknown file):167: OwlReadyUndefinedIRIWarning: Undefined IRI 'http://annotation.semanticweb.org/iswc/iswc.daml#ISWC_2002' referenced, OwlReady assumes it is an individual.\n",
      "* Owlready * Creating new ontology iswc.daml <http://annotation.semanticweb.org/iswc/iswc.daml>.\n",
      "/usr/local/lib/python3.5/dist-packages/owlready/__init__.py:175: OwlReadyOntologyIRIWarning: Ontology IRI 'http://annotation.semanticweb.org/iswc/iswc.daml' does not ends with '.owl' as expected.\n",
      "  self = get_ontology(base_iri)\n",
      "(unknown file):177: OwlReadyUndefinedIRIWarning: Undefined IRI 'http://dpcommerce.pe.hu/iswc.owl#creator' referenced, OwlReady assumes it is an individual.\n",
      "(unknown file):192: OwlReadyUndefinedIRIWarning: Undefined IRI 'http://dpcommerce.pe.hu/iswc.owl#rdfs:label' referenced, OwlReady assumes it is an individual.\n",
      "(unknown file):197: OwlReadyUndefinedIRIWarning: Undefined IRI 'http://dpcommerce.pe.hu/iswc.owl#ADR' referenced, OwlReady assumes it is an individual.\n",
      "(unknown file):227: OwlReadyUndefinedIRIWarning: Undefined IRI 'http://dpcommerce.pe.hu/iswc.owl#broader' referenced, OwlReady assumes it is an individual.\n",
      "(unknown file):237: OwlReadyUndefinedIRIWarning: Undefined IRI 'http://dpcommerce.pe.hu/iswc.owl#subject' referenced, OwlReady assumes it is an individual.\n"
     ]
    },
    {
     "data": {
      "text/plain": [
       "<Ontology iswc>"
      ]
     },
     "execution_count": 3,
     "metadata": {},
     "output_type": "execute_result"
    }
   ],
   "source": [
    "onto.load()"
   ]
  },
  {
   "cell_type": "code",
   "execution_count": 4,
   "metadata": {},
   "outputs": [
    {
     "name": "stdout",
     "output_type": "stream",
     "text": [
      "[iswc.Conference, iswc.PostalAddress, iswc.Document, iswc.Concept, iswc.Organization, iswc.Person, iswc.Conference]\n"
     ]
    }
   ],
   "source": [
    "print(onto.classes)"
   ]
  },
  {
   "cell_type": "code",
   "execution_count": 26,
   "metadata": {},
   "outputs": [
    {
     "name": "stdout",
     "output_type": "stream",
     "text": [
      "Conference\n",
      "PostalAddress\n",
      "Document\n",
      "Concept\n",
      "Organization\n",
      "Person\n",
      "Conference\n"
     ]
    }
   ],
   "source": [
    "for i in onto.classes: \n",
    "    print(i)"
   ]
  },
  {
   "cell_type": "code",
   "execution_count": 31,
   "metadata": {},
   "outputs": [
    {
     "name": "stdout",
     "output_type": "stream",
     "text": [
      "address\n",
      "location\n",
      "date\n",
      "title\n",
      "country\n",
      "locality\n",
      "pcode\n",
      "street\n",
      "prefLabel\n",
      "homepage\n",
      "mbox\n",
      "name\n"
     ]
    }
   ],
   "source": [
    "for i in onto.properties:\n",
    "    print(i)"
   ]
  },
  {
   "cell_type": "code",
   "execution_count": 30,
   "metadata": {},
   "outputs": [
    {
     "ename": "NameError",
     "evalue": "name 'PostalAddress' is not defined",
     "output_type": "error",
     "traceback": [
      "\u001b[0;31m---------------------------------------------------------------------------\u001b[0m",
      "\u001b[0;31mNameError\u001b[0m                                 Traceback (most recent call last)",
      "\u001b[0;32m<ipython-input-30-f67b74acea91>\u001b[0m in \u001b[0;36m<module>\u001b[0;34m()\u001b[0m\n\u001b[0;32m----> 1\u001b[0;31m \u001b[0;32mfor\u001b[0m \u001b[0mi\u001b[0m \u001b[0;32min\u001b[0m \u001b[0monto\u001b[0m\u001b[0;34m.\u001b[0m\u001b[0minstances_of\u001b[0m\u001b[0;34m(\u001b[0m\u001b[0mPostalAddress\u001b[0m\u001b[0;34m)\u001b[0m\u001b[0;34m:\u001b[0m\u001b[0;34m\u001b[0m\u001b[0m\n\u001b[0m\u001b[1;32m      2\u001b[0m     \u001b[0mprint\u001b[0m\u001b[0;34m(\u001b[0m\u001b[0mi\u001b[0m\u001b[0;34m)\u001b[0m\u001b[0;34m\u001b[0m\u001b[0m\n",
      "\u001b[0;31mNameError\u001b[0m: name 'PostalAddress' is not defined"
     ]
    }
   ],
   "source": [
    "for i in onto.instances_of(PostalAddress):\n",
    "    print(i)"
   ]
  },
  {
   "cell_type": "code",
   "execution_count": 17,
   "metadata": {},
   "outputs": [
    {
     "name": "stdout",
     "output_type": "stream",
     "text": [
      "[iswc.conference, iswc.has_affiliation, iswc.research_interests, iswc.creator, iswc.rdfs:label, iswc.ADR, iswc.broader, iswc.subject]\n"
     ]
    }
   ],
   "source": [
    "print(onto.instances)"
   ]
  },
  {
   "cell_type": "code",
   "execution_count": 23,
   "metadata": {},
   "outputs": [
    {
     "ename": "NameError",
     "evalue": "name 'iswc' is not defined",
     "output_type": "error",
     "traceback": [
      "\u001b[0;31m---------------------------------------------------------------------------\u001b[0m",
      "\u001b[0;31mNameError\u001b[0m                                 Traceback (most recent call last)",
      "\u001b[0;32m<ipython-input-23-97f1a742cf89>\u001b[0m in \u001b[0;36m<module>\u001b[0;34m()\u001b[0m\n\u001b[0;32m----> 1\u001b[0;31m \u001b[0monto\u001b[0m\u001b[0;34m.\u001b[0m\u001b[0minstances_of\u001b[0m\u001b[0;34m(\u001b[0m\u001b[0miswc\u001b[0m\u001b[0;34m.\u001b[0m\u001b[0mDocument\u001b[0m\u001b[0;34m)\u001b[0m\u001b[0;34m\u001b[0m\u001b[0m\n\u001b[0m",
      "\u001b[0;31mNameError\u001b[0m: name 'iswc' is not defined"
     ]
    }
   ],
   "source": [
    "onto.instances_of(iswc.Document)"
   ]
  },
  {
   "cell_type": "code",
   "execution_count": 16,
   "metadata": {},
   "outputs": [
    {
     "ename": "NameError",
     "evalue": "name 'Conference' is not defined",
     "output_type": "error",
     "traceback": [
      "\u001b[0;31m---------------------------------------------------------------------------\u001b[0m",
      "\u001b[0;31mNameError\u001b[0m                                 Traceback (most recent call last)",
      "\u001b[0;32m<ipython-input-16-a062766d2cac>\u001b[0m in \u001b[0;36m<module>\u001b[0;34m()\u001b[0m\n\u001b[0;32m----> 1\u001b[0;31m \u001b[0mprint\u001b[0m\u001b[0;34m(\u001b[0m\u001b[0monto\u001b[0m\u001b[0;34m.\u001b[0m\u001b[0minstances_of\u001b[0m\u001b[0;34m(\u001b[0m\u001b[0mConference\u001b[0m\u001b[0;34m)\u001b[0m\u001b[0;34m)\u001b[0m\u001b[0;34m\u001b[0m\u001b[0m\n\u001b[0m",
      "\u001b[0;31mNameError\u001b[0m: name 'Conference' is not defined"
     ]
    }
   ],
   "source": [
    "print(onto.instances_of(Conference))"
   ]
  },
  {
   "cell_type": "code",
   "execution_count": null,
   "metadata": {
    "collapsed": true
   },
   "outputs": [],
   "source": []
  },
  {
   "cell_type": "code",
   "execution_count": null,
   "metadata": {
    "collapsed": true
   },
   "outputs": [],
   "source": []
  },
  {
   "cell_type": "code",
   "execution_count": null,
   "metadata": {
    "collapsed": true
   },
   "outputs": [],
   "source": []
  },
  {
   "cell_type": "code",
   "execution_count": null,
   "metadata": {
    "collapsed": true
   },
   "outputs": [],
   "source": []
  },
  {
   "cell_type": "code",
   "execution_count": null,
   "metadata": {
    "collapsed": true
   },
   "outputs": [],
   "source": [
    "print(ontoTeste)"
   ]
  },
  {
   "cell_type": "code",
   "execution_count": null,
   "metadata": {
    "collapsed": true
   },
   "outputs": [],
   "source": [
    "for i in ontoTeste.instances:\n",
    "    print(i)"
   ]
  },
  {
   "cell_type": "markdown",
   "metadata": {},
   "source": [
    "### Níveis a serem atacados\n",
    "* Instâncias\n",
    "\n",
    "* Estrutura das Tabelas\n",
    "\n",
    "* Relacionamentos entre as tabelas"
   ]
  },
  {
   "cell_type": "markdown",
   "metadata": {
    "collapsed": true
   },
   "source": [
    "Analiso os componentes de cada tabela. Tento estabelecer um classificador fuzzy. Assim, rodo o classificador\n",
    "para as duas ontologias A e B. Como saída eu devo ter uma mapeamento fuzzy das Tabelas de \"B\" de acordo com as características de \"A\". Isso independente do idioma ( Alemão,Francês, Português), somente baseado em informações do .owl"
   ]
  },
  {
   "cell_type": "code",
   "execution_count": null,
   "metadata": {
    "collapsed": true
   },
   "outputs": [],
   "source": [
    "ontoTeste2 =  get_ontology(\"https://github.com/arnaldoljr/Projeto-onto-OWLREADY/blob/master/conf.owl\").load()\n"
   ]
  },
  {
   "cell_type": "code",
   "execution_count": null,
   "metadata": {
    "collapsed": true
   },
   "outputs": [],
   "source": [
    "ontoTeste2"
   ]
  },
  {
   "cell_type": "code",
   "execution_count": null,
   "metadata": {
    "collapsed": true
   },
   "outputs": [],
   "source": [
    "print(ontoTeste2.instances)"
   ]
  },
  {
   "cell_type": "code",
   "execution_count": null,
   "metadata": {
    "collapsed": true
   },
   "outputs": [],
   "source": [
    "print(ontoTeste2.classes)"
   ]
  },
  {
   "cell_type": "code",
   "execution_count": null,
   "metadata": {
    "collapsed": true
   },
   "outputs": [],
   "source": []
  }
 ],
 "metadata": {
  "kernelspec": {
   "display_name": "Python 3",
   "language": "python",
   "name": "python3"
  },
  "language_info": {
   "codemirror_mode": {
    "name": "ipython",
    "version": 3
   },
   "file_extension": ".py",
   "mimetype": "text/x-python",
   "name": "python",
   "nbconvert_exporter": "python",
   "pygments_lexer": "ipython3",
   "version": "3.5.2"
  }
 },
 "nbformat": 4,
 "nbformat_minor": 2
}
